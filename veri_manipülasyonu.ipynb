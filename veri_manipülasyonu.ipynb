{
 "cells": [
  {
   "cell_type": "code",
   "execution_count": 3,
   "id": "677933f7-ed0a-44db-a666-b02412d614cb",
   "metadata": {},
   "outputs": [
    {
     "name": "stdout",
     "output_type": "stream",
     "text": [
      "a\n"
     ]
    }
   ],
   "source": [
    "print(\"a\")"
   ]
  },
  {
   "cell_type": "code",
   "execution_count": null,
   "id": "e6d8d903-136a-4df3-bb88-db613cbd230f",
   "metadata": {},
   "outputs": [],
   "source": []
  },
  {
   "cell_type": "markdown",
   "id": "055704c4-cf51-4c01-b0d3-6e9b7f2b0298",
   "metadata": {},
   "source": [
    "merhaba\n",
    "\n",
    "herhangi başka şeylerde yazılabılır\n",
    "\n",
    "yanı markdown kısmınde notlarımızı tutarız.\n",
    "CODE kısmında kodlarımızı çalıştırırız.\n"
   ]
  },
  {
   "cell_type": "code",
   "execution_count": null,
   "id": "b35edcf9-b1b7-452a-9680-247b6df79269",
   "metadata": {},
   "outputs": [],
   "source": []
  },
  {
   "cell_type": "code",
   "execution_count": 4,
   "id": "5dac31ad-fbe1-44c3-bced-dfe62b2e626b",
   "metadata": {},
   "outputs": [
    {
     "ename": "NameError",
     "evalue": "name 'merhaba' is not defined",
     "output_type": "error",
     "traceback": [
      "\u001b[1;31m---------------------------------------------------------------------------\u001b[0m",
      "\u001b[1;31mNameError\u001b[0m                                 Traceback (most recent call last)",
      "Cell \u001b[1;32mIn[4], line 1\u001b[0m\n\u001b[1;32m----> 1\u001b[0m \u001b[43mmerhaba\u001b[49m\n",
      "\u001b[1;31mNameError\u001b[0m: name 'merhaba' is not defined"
     ]
    }
   ],
   "source": [
    "merhaba\n"
   ]
  },
  {
   "cell_type": "markdown",
   "id": "101c25de-d6aa-465f-b4f0-93560559b5b3",
   "metadata": {},
   "source": [
    "# NEDEN NUMPY?"
   ]
  },
  {
   "cell_type": "markdown",
   "id": "0bf2f9c3-d657-4c67-a026-95c75a21a4f8",
   "metadata": {},
   "source": [
    "a= [1,2,3,4]\n",
    "b= [2,3,4,5]\n",
    "a\n",
    "\n",
    "NOT: EN SON NEYI BIRAKIRSAK O ÇALIŞIR.burada a çalışır\n",
    "HEM a Hem byi bırakırsam hem a yı hem b yı yazdırmaz. en son neyı yazdıysam onu yazdırır.\n",
    "aşağıda oldugu gıbı."
   ]
  },
  {
   "cell_type": "code",
   "execution_count": 5,
   "id": "653875a2-b963-4a9e-8cb5-bd4e3c2dbf3e",
   "metadata": {},
   "outputs": [
    {
     "data": {
      "text/plain": [
       "[1, 2, 3, 4]"
      ]
     },
     "execution_count": 5,
     "metadata": {},
     "output_type": "execute_result"
    }
   ],
   "source": [
    "a= [1,2,3,4]\n",
    "b= [2,3,4,5]\n",
    "a"
   ]
  },
  {
   "cell_type": "code",
   "execution_count": 6,
   "id": "7c1f7d5b-9107-4563-acf2-a7d2ec723975",
   "metadata": {},
   "outputs": [
    {
     "data": {
      "text/plain": [
       "[2, 3, 4, 5]"
      ]
     },
     "execution_count": 6,
     "metadata": {},
     "output_type": "execute_result"
    }
   ],
   "source": [
    "a= [1,2,3,4]\n",
    "b= [2,3,4,5]\n",
    "a\n",
    "b"
   ]
  },
  {
   "cell_type": "markdown",
   "id": "6341aa5a-fdd9-4ce9-af12-1bed6c3efd35",
   "metadata": {},
   "source": [
    "# BAŞKA BİR ŞEY:"
   ]
  },
  {
   "cell_type": "markdown",
   "id": "43357768-e474-4d22-ad30-c84ad3c5efd0",
   "metadata": {},
   "source": [
    "## İKİ LİSTE İLE İŞLEM YAPMAK İSTİYORUM: 2 listeyi çarpmak istiyorum."
   ]
  },
  {
   "cell_type": "code",
   "execution_count": null,
   "id": "2c0fe88a-7f78-4822-82cd-cd10968c3081",
   "metadata": {},
   "outputs": [],
   "source": [
    "a= [1,2,3,4]\n",
    "b= [2,3,4,5]"
   ]
  },
  {
   "cell_type": "code",
   "execution_count": 8,
   "id": "fc21129c-678b-4ca9-a833-6376621fba3e",
   "metadata": {},
   "outputs": [
    {
     "data": {
      "text/plain": [
       "[2, 6, 12, 20]"
      ]
     },
     "execution_count": 8,
     "metadata": {},
     "output_type": "execute_result"
    }
   ],
   "source": [
    "ab = []\n",
    "\n",
    "for i in range(0, len(a)):\n",
    "    ab.append(a[i]*b[i])\n",
    "              \n",
    "ab"
   ]
  },
  {
   "cell_type": "markdown",
   "id": "94f8e4e4-3653-489e-9d58-df59a62beab0",
   "metadata": {},
   "source": [
    "biz mesela 2 listeyi çarpıcaz, bunun için böyle ugrasmak yerine boyle donguler yazmak\n",
    "yerine numpy bize kolaylık sağlar ve kısa yolu getırır.\n",
    "\n",
    "import numpy as np / numpy kutuphanelerını kullanmak için import kullanılır. dıs kutuphane ve modulleri içeriye dahıl etmek için import kullanılır.\n"
   ]
  },
  {
   "cell_type": "code",
   "execution_count": 9,
   "id": "6ef7dfcc-cc65-47b6-b318-4d9632808438",
   "metadata": {},
   "outputs": [],
   "source": [
    "import numpy as np"
   ]
  },
  {
   "cell_type": "code",
   "execution_count": 11,
   "id": "b8ff71c1-eeb4-4292-b1e6-4366e00a8646",
   "metadata": {},
   "outputs": [],
   "source": [
    "a=np.array([1,2,3,4])\n",
    "b=np.array([2,3,4,5])"
   ]
  },
  {
   "cell_type": "code",
   "execution_count": 12,
   "id": "b262b015-a148-4774-980d-b244c88f49b2",
   "metadata": {},
   "outputs": [
    {
     "data": {
      "text/plain": [
       "array([ 2,  6, 12, 20])"
      ]
     },
     "execution_count": 12,
     "metadata": {},
     "output_type": "execute_result"
    }
   ],
   "source": [
    "a*b"
   ]
  },
  {
   "cell_type": "markdown",
   "id": "80cdcc12-3175-4f10-b95a-ca5f8eb20ac2",
   "metadata": {},
   "source": [
    "# NUMPY ARRAY OLUŞTURMAK"
   ]
  },
  {
   "cell_type": "code",
   "execution_count": 15,
   "id": "5fe0e8c3-7853-4f51-aad4-15ca75cd4eb8",
   "metadata": {},
   "outputs": [],
   "source": [
    "import numpy as np"
   ]
  },
  {
   "cell_type": "code",
   "execution_count": 16,
   "id": "6fb665c0-61c7-43bb-b76a-0491ac1b0121",
   "metadata": {},
   "outputs": [
    {
     "data": {
      "text/plain": [
       "array([1, 2, 3, 4, 5])"
      ]
     },
     "execution_count": 16,
     "metadata": {},
     "output_type": "execute_result"
    }
   ],
   "source": [
    "np.array([1,2,3,4,5])"
   ]
  },
  {
   "cell_type": "code",
   "execution_count": 18,
   "id": "63a38195-98ad-4b98-8294-350d234d8938",
   "metadata": {},
   "outputs": [],
   "source": [
    "a=np.array([1,2,3,4,5])"
   ]
  },
  {
   "cell_type": "code",
   "execution_count": 19,
   "id": "c2105ec9-7677-4019-b204-4af0a3cad289",
   "metadata": {},
   "outputs": [
    {
     "data": {
      "text/plain": [
       "numpy.ndarray"
      ]
     },
     "execution_count": 19,
     "metadata": {},
     "output_type": "execute_result"
    }
   ],
   "source": [
    "type(a)"
   ]
  },
  {
   "cell_type": "markdown",
   "id": "7ec70102-08db-42e6-9557-9f533806ba96",
   "metadata": {},
   "source": [
    "numpy array sabıtlenmıs bir tiptir. ndarray olarak goruruz."
   ]
  },
  {
   "cell_type": "code",
   "execution_count": 22,
   "id": "ff200d42-d13a-4c7c-bf69-aafff18ce19c",
   "metadata": {},
   "outputs": [
    {
     "data": {
      "text/plain": [
       "array([ 3.14,  4.  ,  2.  , 13.  ])"
      ]
     },
     "execution_count": 22,
     "metadata": {},
     "output_type": "execute_result"
    }
   ],
   "source": [
    "np.array([3.14,4,2,13])"
   ]
  },
  {
   "cell_type": "markdown",
   "id": "5bed98c8-fcf9-414b-826b-96355423106f",
   "metadata": {},
   "source": [
    "bu şekilde bütün sayıları ondalıklı bir forma çevirdi. sabit bir tip olarak \n",
    "karşımıza çıktı. sabit tip; her bir eleman için farklı bir tip istemıyorum. Sadece\n",
    "bir tip, tek tip veri tutar. Eğer içinde 1 tane ondalıklı varsa hepsını ondalıklıya cevırır."
   ]
  },
  {
   "cell_type": "code",
   "execution_count": null,
   "id": "51090f59-ac04-4540-a79b-4b44cf520892",
   "metadata": {},
   "outputs": [],
   "source": [
    "import numpy as np"
   ]
  },
  {
   "cell_type": "code",
   "execution_count": 21,
   "id": "c8388f43-bf76-4dc8-b325-d5edcc0ea8d2",
   "metadata": {},
   "outputs": [
    {
     "data": {
      "text/plain": [
       "array(['3.14', '4', 'meral', '2', '13'], dtype='<U32')"
      ]
     },
     "execution_count": 21,
     "metadata": {},
     "output_type": "execute_result"
    }
   ],
   "source": [
    "np.array([3.14,4,2,13])"
   ]
  },
  {
   "cell_type": "markdown",
   "id": "b766dac2-2cc4-4b91-9c19-f453d01dde16",
   "metadata": {},
   "source": [
    "# AYRI ÖZEL BİR TİP OLUŞTURMAK İSTERSEM:"
   ]
  },
  {
   "cell_type": "code",
   "execution_count": 24,
   "id": "4be6acda-1f16-47b3-b56f-09a2dc7d2839",
   "metadata": {},
   "outputs": [
    {
     "data": {
      "text/plain": [
       "array([ 3.14,  4.  ,  2.  , 13.  ], dtype=float32)"
      ]
     },
     "execution_count": 24,
     "metadata": {},
     "output_type": "execute_result"
    }
   ],
   "source": [
    "np.array([3.14,4,2,13], dtype=\"float32\")"
   ]
  },
  {
   "cell_type": "markdown",
   "id": "f1318ebc-df31-45c6-a97d-022dba3b4033",
   "metadata": {},
   "source": [
    "#float tipine cevırmıs oldu."
   ]
  },
  {
   "cell_type": "code",
   "execution_count": 25,
   "id": "2207cece-a41f-40e8-9d5a-bdb66af33ff3",
   "metadata": {},
   "outputs": [
    {
     "data": {
      "text/plain": [
       "array([ 3,  4,  2, 13])"
      ]
     },
     "execution_count": 25,
     "metadata": {},
     "output_type": "execute_result"
    }
   ],
   "source": [
    "np.array([3.14,4,2,13], dtype=\"int\")"
   ]
  },
  {
   "cell_type": "markdown",
   "id": "e0a72487-cae4-48d0-9967-85553e7b4a52",
   "metadata": {},
   "source": [
    "#int tipine çevrilmiş oldu."
   ]
  },
  {
   "cell_type": "markdown",
   "id": "4ba2aafb-9f01-4920-9591-9f83acf1c736",
   "metadata": {},
   "source": [
    "#SIFIRDAN ARRAY OLUŞTURMAK:"
   ]
  },
  {
   "cell_type": "code",
   "execution_count": 26,
   "id": "b23b41bd-e303-402b-8f57-8dd575891350",
   "metadata": {},
   "outputs": [
    {
     "data": {
      "text/plain": [
       "array([0., 0., 0., 0., 0., 0., 0., 0., 0., 0.])"
      ]
     },
     "execution_count": 26,
     "metadata": {},
     "output_type": "execute_result"
    }
   ],
   "source": [
    "np.zeros(10)"
   ]
  },
  {
   "cell_type": "markdown",
   "id": "7226bd37-2885-4368-bef4-df2f2dbf3e08",
   "metadata": {},
   "source": [
    "10 tane sıfırdan oluşan float tipte bir array oluştu. inte cevırelım."
   ]
  },
  {
   "cell_type": "code",
   "execution_count": 27,
   "id": "b101c14a-4cb9-4388-9a68-8907faf45c6b",
   "metadata": {},
   "outputs": [
    {
     "data": {
      "text/plain": [
       "array([0, 0, 0, 0, 0, 0, 0, 0, 0, 0])"
      ]
     },
     "execution_count": 27,
     "metadata": {},
     "output_type": "execute_result"
    }
   ],
   "source": [
    "np.zeros(10, dtype=\"int\")"
   ]
  },
  {
   "cell_type": "markdown",
   "id": "0f740434-f804-439a-af42-bd1e36281583",
   "metadata": {},
   "source": [
    "# 1'lerden oluşan Array oluşturmak istersek:"
   ]
  },
  {
   "cell_type": "code",
   "execution_count": 28,
   "id": "5ad23941-f0a0-42d8-b4c1-679843a66425",
   "metadata": {},
   "outputs": [
    {
     "data": {
      "text/plain": [
       "array([[1., 1., 1., 1., 1.],\n",
       "       [1., 1., 1., 1., 1.],\n",
       "       [1., 1., 1., 1., 1.]])"
      ]
     },
     "execution_count": 28,
     "metadata": {},
     "output_type": "execute_result"
    }
   ],
   "source": [
    "np.ones((3,5))"
   ]
  },
  {
   "cell_type": "markdown",
   "id": "64ba1e8a-802b-4bac-9da8-49df1a5d580d",
   "metadata": {
    "tags": []
   },
   "source": [
    "sütün ve satırlardan oluşan array. int tipine cevırelım"
   ]
  },
  {
   "cell_type": "code",
   "execution_count": 29,
   "id": "6fdd6557-a514-4af0-869f-8b53f891e88b",
   "metadata": {},
   "outputs": [
    {
     "data": {
      "text/plain": [
       "array([[1, 1, 1, 1, 1],\n",
       "       [1, 1, 1, 1, 1],\n",
       "       [1, 1, 1, 1, 1]])"
      ]
     },
     "execution_count": 29,
     "metadata": {},
     "output_type": "execute_result"
    }
   ],
   "source": [
    "np.ones((3,5), dtype=\"int\")"
   ]
  },
  {
   "cell_type": "code",
   "execution_count": null,
   "id": "e82033ff-af76-42b3-99f6-3774a9ab8008",
   "metadata": {},
   "outputs": [],
   "source": [
    "Eğer sadece belirli tiplerden oluşan array oluşturmak istersem:\n",
    "Mesela sadece 3lerden oluşturmak istiyorsak:"
   ]
  },
  {
   "cell_type": "code",
   "execution_count": 32,
   "id": "febcf122-25b3-4a26-8064-cc09cbbd2a19",
   "metadata": {},
   "outputs": [
    {
     "data": {
      "text/plain": [
       "array([[3, 3, 3, 3, 3],\n",
       "       [3, 3, 3, 3, 3],\n",
       "       [3, 3, 3, 3, 3]])"
      ]
     },
     "execution_count": 32,
     "metadata": {},
     "output_type": "execute_result"
    }
   ],
   "source": [
    "np.full((3,5),3)"
   ]
  },
  {
   "cell_type": "markdown",
   "id": "22171dda-8bbc-4216-9f17-1af6a9366c93",
   "metadata": {},
   "source": [
    "## Doğrusal Bir Dizi Nasıl Oluştururuz? \n",
    "mesala: 0'dan 31 e kadar 3'er 3'er artan bir array."
   ]
  },
  {
   "cell_type": "code",
   "execution_count": 33,
   "id": "dd1ddc56-1e67-49d3-99a2-7ad63df926c2",
   "metadata": {},
   "outputs": [
    {
     "data": {
      "text/plain": [
       "array([ 0,  3,  6,  9, 12, 15, 18, 21, 24, 27, 30])"
      ]
     },
     "execution_count": 33,
     "metadata": {},
     "output_type": "execute_result"
    }
   ],
   "source": [
    "np.arange(0,31,3) "
   ]
  },
  {
   "cell_type": "markdown",
   "id": "a4056f0a-580f-485a-89f4-e456fd292bfc",
   "metadata": {},
   "source": [
    "## 2 DEĞER ARASINDA BELİRLİ SAYIDA DEĞER OLUŞTURMA"
   ]
  },
  {
   "cell_type": "markdown",
   "id": "e55ad68d-85e7-47a1-b478-4006b87fe717",
   "metadata": {},
   "source": [
    "#Mesela 2 değer arasında 10 tane değer oluşturalım:"
   ]
  },
  {
   "cell_type": "code",
   "execution_count": 35,
   "id": "d853ab58-1664-43e7-9ee4-5cb1664edb4d",
   "metadata": {},
   "outputs": [
    {
     "data": {
      "text/plain": [
       "array([0.        , 0.11111111, 0.22222222, 0.33333333, 0.44444444,\n",
       "       0.55555556, 0.66666667, 0.77777778, 0.88888889, 1.        ])"
      ]
     },
     "execution_count": 35,
     "metadata": {},
     "output_type": "execute_result"
    }
   ],
   "source": [
    "np.linspace(0,1,10)"
   ]
  },
  {
   "cell_type": "markdown",
   "id": "fc38eef8-f6c2-4fe3-88fd-44a6f222c4ca",
   "metadata": {},
   "source": [
    "## Önemli bir şey ;"
   ]
  },
  {
   "cell_type": "markdown",
   "id": "8919b551-beeb-4e3f-9f1f-2fc87553851a",
   "metadata": {},
   "source": [
    "Ben ortalamasını, standart sapmasını , ve kaça kaçlık matris olucagını\n",
    "bileceğim bir array oluşturayım:"
   ]
  },
  {
   "cell_type": "code",
   "execution_count": 38,
   "id": "1c6e1181-c1c5-4061-b13f-2d3c39e0d091",
   "metadata": {},
   "outputs": [
    {
     "data": {
      "text/plain": [
       "array([[11.8533781 ,  9.19013208,  7.82601259, 11.10983986],\n",
       "       [ 4.54347955, 13.77314099, 13.88886154,  9.89116494],\n",
       "       [11.58495342,  8.37150105, 12.8178936 ,  7.91878865]])"
      ]
     },
     "execution_count": 38,
     "metadata": {},
     "output_type": "execute_result"
    }
   ],
   "source": [
    "np.random.normal(10,4,(3,4))"
   ]
  },
  {
   "cell_type": "markdown",
   "id": "e52dd7f5-7962-4a9b-a33a-d6b41d3d8eb6",
   "metadata": {},
   "source": [
    "10 ortama, 4 standart sapma, (3,4)luk matrıs. \n",
    "yanı ortalaması 10 olan, standart sapması 4 olan (3,4) lük bir matris olusturdum."
   ]
  },
  {
   "cell_type": "code",
   "execution_count": 39,
   "id": "f0183c4c-258a-420a-bb24-fe0b7c9a468a",
   "metadata": {},
   "outputs": [
    {
     "data": {
      "text/plain": [
       "array([[ 7.39916231,  9.43649787, 11.68255788,  3.56638854],\n",
       "       [15.02424982,  8.90569229, 13.92983476,  7.12597892],\n",
       "       [ 5.17732399, 15.10042941, 11.75836391, 12.78869718]])"
      ]
     },
     "execution_count": 39,
     "metadata": {},
     "output_type": "execute_result"
    }
   ],
   "source": [
    "np.random.normal(10,4,(3,4))"
   ]
  },
  {
   "cell_type": "markdown",
   "id": "a7e96c78-5931-46ce-b232-a258760a6955",
   "metadata": {},
   "source": [
    "Teorik anlamda, tek boyutlu arrin anlamı vektor\n",
    "2 boyutlu arrayın anlamı matrıstır.\n",
    "Dağılımını kendimiz belirlediğimiz, bir sayı üretme işlemini gerçekleştirdik."
   ]
  },
  {
   "cell_type": "markdown",
   "id": "1e6d882b-e402-45b6-ae6f-1fe3ece68154",
   "metadata": {
    "tags": []
   },
   "source": [
    "# Ben dağılımla ilgilenmiyorum int uzerınden rastgele oluşturulmus\n",
    "# veri üretmek istiyorum. np.random.randint"
   ]
  },
  {
   "cell_type": "code",
   "execution_count": 40,
   "id": "7a7c5884-efab-4c96-a8b1-c9835a8aa8d7",
   "metadata": {},
   "outputs": [
    {
     "data": {
      "text/plain": [
       "array([[2, 5, 9],\n",
       "       [1, 7, 0],\n",
       "       [3, 0, 6]])"
      ]
     },
     "execution_count": 40,
     "metadata": {},
     "output_type": "execute_result"
    }
   ],
   "source": [
    "np.random.randint(0,10,(3,3))"
   ]
  },
  {
   "cell_type": "markdown",
   "id": "4290481d-206f-4a93-accc-6c91420bdfd6",
   "metadata": {},
   "source": [
    "# SIKLIKLA KULLANDIGIMIZ VERİ SAYI ÜRETME FONKSIYONLARI;\n",
    "# random.normal\n",
    "# arange\n",
    "# random.randint"
   ]
  },
  {
   "cell_type": "markdown",
   "id": "654736ec-dd8c-4836-af42-41b810ad0eac",
   "metadata": {},
   "source": [
    "# Numpy  Array Özellikleri:"
   ]
  },
  {
   "cell_type": "markdown",
   "id": "ce6a0c8d-829f-43ad-93f3-286175b74ec5",
   "metadata": {},
   "source": [
    "* **ndim**: boyut sayısı\n",
    "* **shape**: boyut bilgisi\n",
    "* **size**: toplam eleman sayısı\n",
    "* **dtype**: array veri tipi"
   ]
  },
  {
   "cell_type": "code",
   "execution_count": 44,
   "id": "0b861dfe-2869-4067-b68f-d3040e27f6b7",
   "metadata": {},
   "outputs": [],
   "source": [
    "import numpy as np"
   ]
  },
  {
   "cell_type": "code",
   "execution_count": 46,
   "id": "0202938e-30f0-4eb6-9e46-a060a5d0500a",
   "metadata": {},
   "outputs": [
    {
     "data": {
      "text/plain": [
       "array([6, 2, 3, 3, 9, 2, 6, 0, 3, 4])"
      ]
     },
     "execution_count": 46,
     "metadata": {},
     "output_type": "execute_result"
    }
   ],
   "source": [
    "np.random.randint(10,size=10)"
   ]
  },
  {
   "cell_type": "markdown",
   "id": "9a83022d-a784-4b03-a5c7-a1443ceee79c",
   "metadata": {},
   "source": [
    "bu durum 0'dan 10'a kadar rastgele sayı çıkarır. bunu a dıye bır degere kaydedelim."
   ]
  },
  {
   "cell_type": "code",
   "execution_count": 47,
   "id": "27ecc0cb-738d-469a-b43f-4104a9d4bf30",
   "metadata": {},
   "outputs": [],
   "source": [
    "a = np.random.randint(10,size=10)"
   ]
  },
  {
   "cell_type": "code",
   "execution_count": 48,
   "id": "e32ac924-3080-44f2-90b3-7c1fa734b992",
   "metadata": {},
   "outputs": [
    {
     "data": {
      "text/plain": [
       "1"
      ]
     },
     "execution_count": 48,
     "metadata": {},
     "output_type": "execute_result"
    }
   ],
   "source": [
    "a.ndim"
   ]
  },
  {
   "cell_type": "markdown",
   "id": "6a2f1a9c-d72d-434c-81f4-5959326dc275",
   "metadata": {},
   "source": [
    "tek boyutlu array oldugundan dolayı  1 çıkar"
   ]
  },
  {
   "cell_type": "code",
   "execution_count": 49,
   "id": "04eab95d-966c-46f9-a3f6-d2cf4ab905ff",
   "metadata": {},
   "outputs": [
    {
     "data": {
      "text/plain": [
       "(10,)"
      ]
     },
     "execution_count": 49,
     "metadata": {},
     "output_type": "execute_result"
    }
   ],
   "source": [
    "a.shape"
   ]
  },
  {
   "cell_type": "markdown",
   "id": "07133b43-4485-47c2-9874-95d4f4094dfb",
   "metadata": {},
   "source": [
    "bir boyut var ve içinde 10 tane eleman var"
   ]
  },
  {
   "cell_type": "code",
   "execution_count": 50,
   "id": "012184e7-23ab-46d5-83f5-ee7ca3633397",
   "metadata": {},
   "outputs": [
    {
     "data": {
      "text/plain": [
       "10"
      ]
     },
     "execution_count": 50,
     "metadata": {},
     "output_type": "execute_result"
    }
   ],
   "source": [
    "a.size"
   ]
  },
  {
   "cell_type": "code",
   "execution_count": 51,
   "id": "c31953fb-5641-4c9b-a11c-66b7e30d09c6",
   "metadata": {},
   "outputs": [
    {
     "data": {
      "text/plain": [
       "dtype('int32')"
      ]
     },
     "execution_count": 51,
     "metadata": {},
     "output_type": "execute_result"
    }
   ],
   "source": [
    "a.dtype"
   ]
  },
  {
   "cell_type": "markdown",
   "id": "6b81014c-7a1b-4119-b8e4-0d186920c59d",
   "metadata": {},
   "source": [
    "#2 BOYUTLU ARRAY OLUŞTURMA VE ÖZELLİKLERİNİ İNCELEME:"
   ]
  },
  {
   "cell_type": "code",
   "execution_count": 52,
   "id": "ff3e52d3-13f1-4201-ada4-62e4736bad3d",
   "metadata": {},
   "outputs": [],
   "source": [
    "b= np.random.randint(10,size=(3,5))"
   ]
  },
  {
   "cell_type": "code",
   "execution_count": 53,
   "id": "d6f5c7aa-e54b-4cbe-906c-6fbb81470726",
   "metadata": {},
   "outputs": [
    {
     "data": {
      "text/plain": [
       "array([[9, 9, 5, 9, 9],\n",
       "       [8, 0, 6, 7, 8],\n",
       "       [4, 1, 4, 8, 6]])"
      ]
     },
     "execution_count": 53,
     "metadata": {},
     "output_type": "execute_result"
    }
   ],
   "source": [
    "b"
   ]
  },
  {
   "cell_type": "code",
   "execution_count": 54,
   "id": "f737f0bc-3370-440e-aa54-e9f0d419aac8",
   "metadata": {},
   "outputs": [
    {
     "data": {
      "text/plain": [
       "2"
      ]
     },
     "execution_count": 54,
     "metadata": {},
     "output_type": "execute_result"
    }
   ],
   "source": [
    "b.ndim"
   ]
  },
  {
   "cell_type": "code",
   "execution_count": 55,
   "id": "264f5fdb-07c3-4ef7-bb29-46aff14661fe",
   "metadata": {},
   "outputs": [
    {
     "data": {
      "text/plain": [
       "(3, 5)"
      ]
     },
     "execution_count": 55,
     "metadata": {},
     "output_type": "execute_result"
    }
   ],
   "source": [
    "b.shape"
   ]
  },
  {
   "cell_type": "code",
   "execution_count": 56,
   "id": "f886e765-ec63-4e85-8fd5-b19ae0d4be9c",
   "metadata": {},
   "outputs": [
    {
     "data": {
      "text/plain": [
       "15"
      ]
     },
     "execution_count": 56,
     "metadata": {},
     "output_type": "execute_result"
    }
   ],
   "source": [
    "b.size"
   ]
  },
  {
   "cell_type": "code",
   "execution_count": 58,
   "id": "6cfe6828-bfbf-4999-9f86-72a8a5f6da68",
   "metadata": {},
   "outputs": [
    {
     "data": {
      "text/plain": [
       "dtype('int32')"
      ]
     },
     "execution_count": 58,
     "metadata": {},
     "output_type": "execute_result"
    }
   ],
   "source": [
    "b.dtype"
   ]
  },
  {
   "cell_type": "markdown",
   "id": "93ec943e-e3a0-4a64-8e32-9e682f0b0b9c",
   "metadata": {},
   "source": [
    "## VAR OLAN NUMPY ARRAY'INI YENIDEN ŞEKİLLENDİRME(RESHAPING)"
   ]
  },
  {
   "cell_type": "code",
   "execution_count": 59,
   "id": "baf0462c-f740-4ff5-a3f3-274861776394",
   "metadata": {},
   "outputs": [],
   "source": [
    "import numpy as np"
   ]
  },
  {
   "cell_type": "code",
   "execution_count": 60,
   "id": "2557fe66-a429-440b-b332-ff7b2b6da1c1",
   "metadata": {},
   "outputs": [
    {
     "data": {
      "text/plain": [
       "array([1, 2, 3, 4, 5, 6, 7, 8, 9])"
      ]
     },
     "execution_count": 60,
     "metadata": {},
     "output_type": "execute_result"
    }
   ],
   "source": [
    "np.arange(1,10)"
   ]
  },
  {
   "cell_type": "markdown",
   "id": "21716bd6-e4ee-487a-938a-49ef8e21d2c5",
   "metadata": {},
   "source": [
    "3 boyuta çevirmek istersek: reshape methodu kullanılır."
   ]
  },
  {
   "cell_type": "code",
   "execution_count": 62,
   "id": "5dc9d78b-1f1a-4c29-bb6a-c2943c4502b5",
   "metadata": {},
   "outputs": [
    {
     "data": {
      "text/plain": [
       "array([[1, 2, 3],\n",
       "       [4, 5, 6],\n",
       "       [7, 8, 9]])"
      ]
     },
     "execution_count": 62,
     "metadata": {},
     "output_type": "execute_result"
    }
   ],
   "source": [
    "np.arange(1,10).reshape((3,3))"
   ]
  },
  {
   "cell_type": "code",
   "execution_count": 63,
   "id": "bf00d1d6-687d-414d-bff3-a5ec4492eb22",
   "metadata": {},
   "outputs": [
    {
     "data": {
      "text/plain": [
       "array([1, 2, 3, 4, 5, 6, 7, 8, 9])"
      ]
     },
     "execution_count": 63,
     "metadata": {},
     "output_type": "execute_result"
    }
   ],
   "source": [
    "np.arange(1,10)"
   ]
  },
  {
   "cell_type": "code",
   "execution_count": 64,
   "id": "9d2fa8aa-7a02-48c5-bd74-7ba086df44fa",
   "metadata": {},
   "outputs": [],
   "source": [
    "a=np.arange(1,10)"
   ]
  },
  {
   "cell_type": "code",
   "execution_count": 65,
   "id": "21edbd45-543f-4fae-8454-f727e5c334d2",
   "metadata": {},
   "outputs": [
    {
     "data": {
      "text/plain": [
       "array([1, 2, 3, 4, 5, 6, 7, 8, 9])"
      ]
     },
     "execution_count": 65,
     "metadata": {},
     "output_type": "execute_result"
    }
   ],
   "source": [
    "a"
   ]
  },
  {
   "cell_type": "code",
   "execution_count": 66,
   "id": "d6da2006-0913-4054-b826-66d35a0eb85f",
   "metadata": {},
   "outputs": [
    {
     "data": {
      "text/plain": [
       "1"
      ]
     },
     "execution_count": 66,
     "metadata": {},
     "output_type": "execute_result"
    }
   ],
   "source": [
    "a.ndim"
   ]
  },
  {
   "cell_type": "markdown",
   "id": "a5f1a937-0a45-4bc1-9ff2-e64ab6030053",
   "metadata": {},
   "source": [
    "elımızdekı tek boyutlu arrayı ıkı boyutlu matrıse cevırmek istiyourz ama tek boyutludakı bılgısı de elımızde kalsın.\n"
   ]
  },
  {
   "cell_type": "code",
   "execution_count": 71,
   "id": "61f0dfb5-6034-47b9-9a8e-e3097abc605d",
   "metadata": {},
   "outputs": [
    {
     "data": {
      "text/plain": [
       "array([[1, 2, 3, 4, 5, 6, 7, 8, 9]])"
      ]
     },
     "execution_count": 71,
     "metadata": {},
     "output_type": "execute_result"
    }
   ],
   "source": [
    "a.reshape((1,9))"
   ]
  },
  {
   "cell_type": "markdown",
   "id": "ba0dac72-208f-4003-b99c-3eedcccea717",
   "metadata": {},
   "source": [
    "array([1, 2, 3, 4, 5, 6, 7, 8, 9])\n",
    "array([[1, 2, 3, 4, 5, 6, 7, 8, 9]])\n",
    "baktııgmızda iki ifade birbirine çok benzer fakat birinde ıkı koseli parantez,\n",
    "birinde tek koselı parantez var. alttakı artık bır matrıstır. boyutu ıkıdır ama aynı sekılde\n",
    "tek bır vektorun tasıdıgı bılgıyı tasır. ama 1 satır 9 sutundan olusur. b.ndim dedıgımızde \n",
    "2 boyut çıkar\n",
    "\n",
    "\n"
   ]
  },
  {
   "cell_type": "code",
   "execution_count": 72,
   "id": "0f5f73b6-6c15-46b2-95d6-9e1e9a2415f2",
   "metadata": {},
   "outputs": [],
   "source": [
    "b=a.reshape((1,9))"
   ]
  },
  {
   "cell_type": "code",
   "execution_count": 73,
   "id": "27836f61-c92f-47e0-a2b0-48fd66fc7d20",
   "metadata": {},
   "outputs": [
    {
     "data": {
      "text/plain": [
       "array([[1, 2, 3, 4, 5, 6, 7, 8, 9]])"
      ]
     },
     "execution_count": 73,
     "metadata": {},
     "output_type": "execute_result"
    }
   ],
   "source": [
    "b"
   ]
  },
  {
   "cell_type": "code",
   "execution_count": 74,
   "id": "439d2f7f-c2d8-40d8-847f-dfb7d11bbe23",
   "metadata": {},
   "outputs": [
    {
     "data": {
      "text/plain": [
       "2"
      ]
     },
     "execution_count": 74,
     "metadata": {},
     "output_type": "execute_result"
    }
   ],
   "source": [
    "b.ndim"
   ]
  },
  {
   "cell_type": "code",
   "execution_count": 75,
   "id": "fc362ccf-3ee1-4871-9f82-8fd63e6d95a1",
   "metadata": {},
   "outputs": [
    {
     "data": {
      "text/plain": [
       "array([1, 2, 3, 4, 5, 6, 7, 8, 9])"
      ]
     },
     "execution_count": 75,
     "metadata": {},
     "output_type": "execute_result"
    }
   ],
   "source": [
    "np.arange(1,10)"
   ]
  },
  {
   "cell_type": "code",
   "execution_count": 77,
   "id": "32e626d0-0344-445a-abbd-a3b6b4a684e5",
   "metadata": {},
   "outputs": [
    {
     "data": {
      "text/plain": [
       "array([[1, 2, 3],\n",
       "       [4, 5, 6],\n",
       "       [7, 8, 9]])"
      ]
     },
     "execution_count": 77,
     "metadata": {},
     "output_type": "execute_result"
    }
   ],
   "source": [
    "np.arange(1,10).reshape((3,3))"
   ]
  },
  {
   "cell_type": "code",
   "execution_count": 83,
   "id": "f0d2bcf3-15da-4bfe-9e9c-60eec67af15a",
   "metadata": {},
   "outputs": [
    {
     "ename": "ValueError",
     "evalue": "cannot reshape array of size 8 into shape (2,2)",
     "output_type": "error",
     "traceback": [
      "\u001b[1;31m---------------------------------------------------------------------------\u001b[0m",
      "\u001b[1;31mValueError\u001b[0m                                Traceback (most recent call last)",
      "Cell \u001b[1;32mIn[83], line 1\u001b[0m\n\u001b[1;32m----> 1\u001b[0m \u001b[43mnp\u001b[49m\u001b[38;5;241;43m.\u001b[39;49m\u001b[43marange\u001b[49m\u001b[43m(\u001b[49m\u001b[38;5;241;43m1\u001b[39;49m\u001b[43m,\u001b[49m\u001b[38;5;241;43m9\u001b[39;49m\u001b[43m)\u001b[49m\u001b[38;5;241;43m.\u001b[39;49m\u001b[43mreshape\u001b[49m\u001b[43m(\u001b[49m\u001b[43m(\u001b[49m\u001b[38;5;241;43m2\u001b[39;49m\u001b[43m,\u001b[49m\u001b[38;5;241;43m2\u001b[39;49m\u001b[43m)\u001b[49m\u001b[43m)\u001b[49m\n",
      "\u001b[1;31mValueError\u001b[0m: cannot reshape array of size 8 into shape (2,2)"
     ]
    }
   ],
   "source": [
    "np.arange(1,9).reshape((2,2))"
   ]
  },
  {
   "cell_type": "code",
   "execution_count": 84,
   "id": "0f0f538b-2d6c-43ba-8aa5-c6a940ab9312",
   "metadata": {},
   "outputs": [
    {
     "data": {
      "text/plain": [
       "array([[1, 2],\n",
       "       [3, 4]])"
      ]
     },
     "execution_count": 84,
     "metadata": {},
     "output_type": "execute_result"
    }
   ],
   "source": [
    "np.arange(1,5).reshape((2,2))"
   ]
  },
  {
   "cell_type": "code",
   "execution_count": 85,
   "id": "86988b9d-6c84-4cd5-b7fd-94dc47f71995",
   "metadata": {},
   "outputs": [
    {
     "data": {
      "text/plain": [
       "array([[5, 6],\n",
       "       [7, 8]])"
      ]
     },
     "execution_count": 85,
     "metadata": {},
     "output_type": "execute_result"
    }
   ],
   "source": [
    "np.arange(5,9).reshape((2,2))"
   ]
  },
  {
   "cell_type": "code",
   "execution_count": 86,
   "id": "a0525f29-adb0-4f39-97cb-b53d6dd86851",
   "metadata": {},
   "outputs": [
    {
     "ename": "ValueError",
     "evalue": "cannot reshape array of size 5 into shape (2,2)",
     "output_type": "error",
     "traceback": [
      "\u001b[1;31m---------------------------------------------------------------------------\u001b[0m",
      "\u001b[1;31mValueError\u001b[0m                                Traceback (most recent call last)",
      "Cell \u001b[1;32mIn[86], line 1\u001b[0m\n\u001b[1;32m----> 1\u001b[0m \u001b[43mnp\u001b[49m\u001b[38;5;241;43m.\u001b[39;49m\u001b[43marange\u001b[49m\u001b[43m(\u001b[49m\u001b[38;5;241;43m5\u001b[39;49m\u001b[43m,\u001b[49m\u001b[38;5;241;43m10\u001b[39;49m\u001b[43m)\u001b[49m\u001b[38;5;241;43m.\u001b[39;49m\u001b[43mreshape\u001b[49m\u001b[43m(\u001b[49m\u001b[43m(\u001b[49m\u001b[38;5;241;43m2\u001b[39;49m\u001b[43m,\u001b[49m\u001b[38;5;241;43m2\u001b[39;49m\u001b[43m)\u001b[49m\u001b[43m)\u001b[49m\n",
      "\u001b[1;31mValueError\u001b[0m: cannot reshape array of size 5 into shape (2,2)"
     ]
    }
   ],
   "source": [
    "np.arange(5,10).reshape((2,2))"
   ]
  },
  {
   "cell_type": "code",
   "execution_count": null,
   "id": "240fcb24-46c4-4679-800b-00f9f1579fd8",
   "metadata": {},
   "outputs": [],
   "source": []
  },
  {
   "cell_type": "markdown",
   "id": "06dcf439-a7e4-4ec1-b806-5a43bece9ba2",
   "metadata": {},
   "source": [
    "## ARRAY BİRLEŞTİRME ( CONCATENATION)"
   ]
  },
  {
   "cell_type": "markdown",
   "id": "7f449443-67b5-46e5-a13f-32526c2cca08",
   "metadata": {},
   "source": [
    "## Tek boyutta birleştirme"
   ]
  },
  {
   "cell_type": "code",
   "execution_count": 88,
   "id": "a50748db-e644-4f64-961b-58ae20a67060",
   "metadata": {},
   "outputs": [],
   "source": [
    "import numpy as np"
   ]
  },
  {
   "cell_type": "code",
   "execution_count": 90,
   "id": "02e05598-c945-43df-808a-5f6a2ebf5d03",
   "metadata": {},
   "outputs": [],
   "source": [
    "x=np.array([1,2,3])\n",
    "y=np.array([4,5,6])"
   ]
  },
  {
   "cell_type": "code",
   "execution_count": 91,
   "id": "b3780980-ae07-4fae-9b88-883718d3f1b8",
   "metadata": {},
   "outputs": [
    {
     "ename": "AttributeError",
     "evalue": "module 'numpy' has no attribute 'concatenatıon'",
     "output_type": "error",
     "traceback": [
      "\u001b[1;31m---------------------------------------------------------------------------\u001b[0m",
      "\u001b[1;31mAttributeError\u001b[0m                            Traceback (most recent call last)",
      "Cell \u001b[1;32mIn[91], line 1\u001b[0m\n\u001b[1;32m----> 1\u001b[0m \u001b[43mnp\u001b[49m\u001b[38;5;241;43m.\u001b[39;49m\u001b[43mconcatenatıon\u001b[49m([x,y])\n",
      "File \u001b[1;32m~\\anaconda3\\lib\\site-packages\\numpy\\__init__.py:311\u001b[0m, in \u001b[0;36m__getattr__\u001b[1;34m(attr)\u001b[0m\n\u001b[0;32m    308\u001b[0m     \u001b[38;5;28;01mfrom\u001b[39;00m \u001b[38;5;21;01m.\u001b[39;00m\u001b[38;5;21;01mtesting\u001b[39;00m \u001b[38;5;28;01mimport\u001b[39;00m Tester\n\u001b[0;32m    309\u001b[0m     \u001b[38;5;28;01mreturn\u001b[39;00m Tester\n\u001b[1;32m--> 311\u001b[0m \u001b[38;5;28;01mraise\u001b[39;00m \u001b[38;5;167;01mAttributeError\u001b[39;00m(\u001b[38;5;124m\"\u001b[39m\u001b[38;5;124mmodule \u001b[39m\u001b[38;5;132;01m{!r}\u001b[39;00m\u001b[38;5;124m has no attribute \u001b[39m\u001b[38;5;124m\"\u001b[39m\n\u001b[0;32m    312\u001b[0m                      \u001b[38;5;124m\"\u001b[39m\u001b[38;5;132;01m{!r}\u001b[39;00m\u001b[38;5;124m\"\u001b[39m\u001b[38;5;241m.\u001b[39mformat(\u001b[38;5;18m__name__\u001b[39m, attr))\n",
      "\u001b[1;31mAttributeError\u001b[0m: module 'numpy' has no attribute 'concatenatıon'"
     ]
    }
   ],
   "source": [
    "np.concatenatıon([x,y])"
   ]
  },
  {
   "cell_type": "markdown",
   "id": "9d176d9f-3320-4d70-af9d-9df12214970d",
   "metadata": {},
   "source": [
    "AttributeError: module 'numpy' has no attribute 'concatenatıon'\n",
    "\n",
    "bu hata da böyle bir fonksıyon yok demek istemiş. hemen duzeltelım."
   ]
  },
  {
   "cell_type": "code",
   "execution_count": 92,
   "id": "c9986041-a583-4f75-b36c-4c33b241c626",
   "metadata": {},
   "outputs": [
    {
     "data": {
      "text/plain": [
       "array([1, 2, 3, 4, 5, 6])"
      ]
     },
     "execution_count": 92,
     "metadata": {},
     "output_type": "execute_result"
    }
   ],
   "source": [
    "np.concatenate([x,y])"
   ]
  },
  {
   "cell_type": "code",
   "execution_count": null,
   "id": "cc86ca7a-65ad-410b-b57c-5d12c0091a0f",
   "metadata": {},
   "outputs": [],
   "source": [
    "iki arrayi bırleştirdi."
   ]
  },
  {
   "cell_type": "markdown",
   "id": "e55fafe9-df70-42ba-bed9-504090b64f6a",
   "metadata": {},
   "source": [
    "başka bir z arrayı cıksın. bunu da kaydedebilir miyiz? bakıyoruz"
   ]
  },
  {
   "cell_type": "code",
   "execution_count": 94,
   "id": "4cd9f88d-31c1-4247-92f6-f6a4bde9c2c5",
   "metadata": {},
   "outputs": [],
   "source": [
    "z=np.array([7,8,9])"
   ]
  },
  {
   "cell_type": "code",
   "execution_count": 95,
   "id": "9a7f4d4e-2f7a-4c4a-b56a-593701a3ad64",
   "metadata": {},
   "outputs": [
    {
     "data": {
      "text/plain": [
       "array([7, 8, 9])"
      ]
     },
     "execution_count": 95,
     "metadata": {},
     "output_type": "execute_result"
    }
   ],
   "source": [
    "z"
   ]
  },
  {
   "cell_type": "code",
   "execution_count": 96,
   "id": "773ee5ef-16fb-4f1c-b166-16bc2f10e665",
   "metadata": {},
   "outputs": [
    {
     "data": {
      "text/plain": [
       "array([1, 2, 3, 4, 5, 6])"
      ]
     },
     "execution_count": 96,
     "metadata": {},
     "output_type": "execute_result"
    }
   ],
   "source": [
    "np.concatenate([x,y])"
   ]
  },
  {
   "cell_type": "code",
   "execution_count": 98,
   "id": "443618b6-c6c0-4f26-a5ee-2dded91ce9a6",
   "metadata": {},
   "outputs": [],
   "source": [
    "a=np.concatenate([x,y])"
   ]
  },
  {
   "cell_type": "code",
   "execution_count": 99,
   "id": "f6052a49-ce86-4369-a34f-01a9f2ecff15",
   "metadata": {},
   "outputs": [
    {
     "data": {
      "text/plain": [
       "array([1, 2, 3, 4, 5, 6])"
      ]
     },
     "execution_count": 99,
     "metadata": {},
     "output_type": "execute_result"
    }
   ],
   "source": [
    "a"
   ]
  },
  {
   "cell_type": "code",
   "execution_count": 100,
   "id": "1ad54cc2-9b4c-4e81-a403-be85a10a31b5",
   "metadata": {},
   "outputs": [
    {
     "data": {
      "text/plain": [
       "array([1, 2, 3, 4, 5, 6, 7, 8, 9])"
      ]
     },
     "execution_count": 100,
     "metadata": {},
     "output_type": "execute_result"
    }
   ],
   "source": [
    "np.concatenate([a,z])"
   ]
  },
  {
   "cell_type": "markdown",
   "id": "f9e67543-1090-4501-9ccd-d1cb956a29cf",
   "metadata": {},
   "source": [
    "## İki boyutlu Birleştirme"
   ]
  },
  {
   "cell_type": "code",
   "execution_count": null,
   "id": "59b4c049-6e80-4753-afc7-9fb3be10d0b2",
   "metadata": {},
   "outputs": [],
   "source": [
    "iki boyutlu arraylerde ıkı koselı parantz kullanılır."
   ]
  },
  {
   "cell_type": "code",
   "execution_count": 101,
   "id": "cbd7a33b-060b-4efe-ab38-95cc136db6e6",
   "metadata": {},
   "outputs": [],
   "source": [
    "a=np.array([[1,2,3],[4,5,6]])"
   ]
  },
  {
   "cell_type": "code",
   "execution_count": 102,
   "id": "016c2a8a-be86-461c-bf85-d626b6a93fbe",
   "metadata": {},
   "outputs": [
    {
     "data": {
      "text/plain": [
       "array([[1, 2, 3],\n",
       "       [4, 5, 6],\n",
       "       [1, 2, 3],\n",
       "       [4, 5, 6]])"
      ]
     },
     "execution_count": 102,
     "metadata": {},
     "output_type": "execute_result"
    }
   ],
   "source": [
    "np.concatenate([a,a])"
   ]
  },
  {
   "cell_type": "markdown",
   "id": "f696e93b-b11c-4738-8ac8-1cc09f1cfebc",
   "metadata": {},
   "source": [
    "# satır bazında değil sütun bazında birleştirmek istersem:"
   ]
  },
  {
   "cell_type": "code",
   "execution_count": 104,
   "id": "d9449e4b-ef8a-48e9-b2b2-ea1c4d44d947",
   "metadata": {},
   "outputs": [
    {
     "data": {
      "text/plain": [
       "array([[1, 2, 3, 1, 2, 3],\n",
       "       [4, 5, 6, 4, 5, 6]])"
      ]
     },
     "execution_count": 104,
     "metadata": {},
     "output_type": "execute_result"
    }
   ],
   "source": [
    "np.concatenate([a,a], axis=1)"
   ]
  },
  {
   "cell_type": "code",
   "execution_count": null,
   "id": "8dcdc787-a5fc-41d8-b63f-4eb19fbb47d8",
   "metadata": {},
   "outputs": [],
   "source": [
    "axis eksen anlamına gelır. axis=0 satır bazıdır.\n",
    "axis=1 sütun bazında eklemek demektir."
   ]
  },
  {
   "cell_type": "code",
   "execution_count": 105,
   "id": "f858aaed-9023-497a-8f59-76d8afebfc6e",
   "metadata": {},
   "outputs": [
    {
     "data": {
      "text/plain": [
       "array([[1, 2, 3],\n",
       "       [4, 5, 6],\n",
       "       [1, 2, 3],\n",
       "       [4, 5, 6]])"
      ]
     },
     "execution_count": 105,
     "metadata": {},
     "output_type": "execute_result"
    }
   ],
   "source": [
    "np.concatenate([a,a], axis=0)"
   ]
  },
  {
   "cell_type": "markdown",
   "id": "c6a520b3-d290-485d-90cb-7e9187921286",
   "metadata": {},
   "source": [
    "# Array Ayırma (Splitting)"
   ]
  },
  {
   "cell_type": "markdown",
   "id": "e638c1e0-04f9-4a8d-bc10-789863069b88",
   "metadata": {},
   "source": [
    "## TEK BOYUTLU ARRAY AYIRMA"
   ]
  },
  {
   "cell_type": "code",
   "execution_count": 115,
   "id": "9e597d85-af16-4c5d-b4c3-a0ba567c67eb",
   "metadata": {},
   "outputs": [],
   "source": [
    "import numpy as np"
   ]
  },
  {
   "cell_type": "code",
   "execution_count": 107,
   "id": "3f06e6b2-130e-4529-ac59-d3c624cda0b6",
   "metadata": {},
   "outputs": [],
   "source": [
    "x = np.array([1,2,3,99,99,3,2,1])\n"
   ]
  },
  {
   "cell_type": "code",
   "execution_count": 108,
   "id": "c54c1a38-9487-4ab9-bb28-c80532b3927d",
   "metadata": {},
   "outputs": [
    {
     "data": {
      "text/plain": [
       "array([ 1,  2,  3, 99, 99,  3,  2,  1])"
      ]
     },
     "execution_count": 108,
     "metadata": {},
     "output_type": "execute_result"
    }
   ],
   "source": [
    "x"
   ]
  },
  {
   "cell_type": "code",
   "execution_count": 109,
   "id": "48890f26-0821-4873-96f9-3ca85bc605ea",
   "metadata": {},
   "outputs": [
    {
     "data": {
      "text/plain": [
       "[array([1, 2, 3]), array([99, 99]), array([3, 2, 1])]"
      ]
     },
     "execution_count": 109,
     "metadata": {},
     "output_type": "execute_result"
    }
   ],
   "source": [
    "np.split(x,[3,5])"
   ]
  },
  {
   "cell_type": "markdown",
   "id": "3d2e43f1-8178-4a5f-8ae8-4b1b9807c41e",
   "metadata": {},
   "source": [
    "bunu ayrı ayrı gormek istediğimde:"
   ]
  },
  {
   "cell_type": "code",
   "execution_count": 110,
   "id": "669580e4-ebcd-48fa-adac-fcc99eb94b16",
   "metadata": {},
   "outputs": [],
   "source": [
    "x = np.array([1,2,3,99,99,3,2,1])"
   ]
  },
  {
   "cell_type": "code",
   "execution_count": 111,
   "id": "4a4d7cf4-596c-4dca-920b-f8fc811cfaa3",
   "metadata": {},
   "outputs": [],
   "source": [
    "a,b,c = np.split(x, [3,5])"
   ]
  },
  {
   "cell_type": "code",
   "execution_count": 112,
   "id": "7f956445-6097-4d88-ba35-5538b316f764",
   "metadata": {},
   "outputs": [
    {
     "data": {
      "text/plain": [
       "array([1, 2, 3])"
      ]
     },
     "execution_count": 112,
     "metadata": {},
     "output_type": "execute_result"
    }
   ],
   "source": [
    "a"
   ]
  },
  {
   "cell_type": "code",
   "execution_count": 113,
   "id": "25a982ff-6f18-4e78-8bf9-b558fc40c3e9",
   "metadata": {},
   "outputs": [
    {
     "data": {
      "text/plain": [
       "array([99, 99])"
      ]
     },
     "execution_count": 113,
     "metadata": {},
     "output_type": "execute_result"
    }
   ],
   "source": [
    "b"
   ]
  },
  {
   "cell_type": "code",
   "execution_count": 114,
   "id": "18ef8b64-af52-4653-bc35-5ef875a2281d",
   "metadata": {},
   "outputs": [
    {
     "data": {
      "text/plain": [
       "array([3, 2, 1])"
      ]
     },
     "execution_count": 114,
     "metadata": {},
     "output_type": "execute_result"
    }
   ],
   "source": [
    "c"
   ]
  },
  {
   "cell_type": "markdown",
   "id": "123e3608-b1b4-4937-95e9-0de563c3d4fc",
   "metadata": {},
   "source": [
    "## 2 Boyutlu Array Ayırma Dikey Boyutta"
   ]
  },
  {
   "cell_type": "code",
   "execution_count": 117,
   "id": "760122a8-db76-41fa-acc5-98def8322c2b",
   "metadata": {},
   "outputs": [],
   "source": [
    "m= np.arange(16).reshape(4,4)"
   ]
  },
  {
   "cell_type": "code",
   "execution_count": 118,
   "id": "5823ea11-0d24-4156-8061-e6502b9e4bd4",
   "metadata": {},
   "outputs": [
    {
     "data": {
      "text/plain": [
       "array([[ 0,  1,  2,  3],\n",
       "       [ 4,  5,  6,  7],\n",
       "       [ 8,  9, 10, 11],\n",
       "       [12, 13, 14, 15]])"
      ]
     },
     "execution_count": 118,
     "metadata": {},
     "output_type": "execute_result"
    }
   ],
   "source": [
    "m"
   ]
  },
  {
   "cell_type": "code",
   "execution_count": 120,
   "id": "784d6716-7084-429f-a292-abf4eefc4ed0",
   "metadata": {},
   "outputs": [
    {
     "data": {
      "text/plain": [
       "[array([[0, 1, 2, 3],\n",
       "        [4, 5, 6, 7]]),\n",
       " array([[ 8,  9, 10, 11],\n",
       "        [12, 13, 14, 15]])]"
      ]
     },
     "execution_count": 120,
     "metadata": {},
     "output_type": "execute_result"
    }
   ],
   "source": [
    "np.vsplit(m,[2])"
   ]
  },
  {
   "cell_type": "markdown",
   "id": "28569e8d-c6d3-4df3-b557-086b5c907719",
   "metadata": {},
   "source": [
    "0 1 2ye kadar bol, 2 dahıl değil. \n",
    "üst ve alt diyerek 2 farklı şekilde yapabılırız. ayrı ayrı kullanmak ıstedıgımde."
   ]
  },
  {
   "cell_type": "code",
   "execution_count": 123,
   "id": "4e160454-c9c6-4f0b-8c4d-77be1fb5411d",
   "metadata": {},
   "outputs": [],
   "source": [
    "ust,alt=np.vsplit(m,[2])"
   ]
  },
  {
   "cell_type": "code",
   "execution_count": 124,
   "id": "73d48f52-a42a-4226-89cb-d47465683d9e",
   "metadata": {},
   "outputs": [
    {
     "data": {
      "text/plain": [
       "array([[0, 1, 2, 3],\n",
       "       [4, 5, 6, 7]])"
      ]
     },
     "execution_count": 124,
     "metadata": {},
     "output_type": "execute_result"
    }
   ],
   "source": [
    "ust"
   ]
  },
  {
   "cell_type": "code",
   "execution_count": 125,
   "id": "50f333a8-2b74-4aa2-9b70-44a91ecf5ddb",
   "metadata": {},
   "outputs": [
    {
     "data": {
      "text/plain": [
       "array([[ 8,  9, 10, 11],\n",
       "       [12, 13, 14, 15]])"
      ]
     },
     "execution_count": 125,
     "metadata": {},
     "output_type": "execute_result"
    }
   ],
   "source": [
    "alt"
   ]
  },
  {
   "cell_type": "markdown",
   "id": "75983ff4-7108-4c6d-bd55-7b17071bae57",
   "metadata": {},
   "source": [
    "## 2 Boyutlu Array Ayırma Yatay Boyutta"
   ]
  },
  {
   "cell_type": "code",
   "execution_count": 127,
   "id": "44904298-6221-4f0d-86c0-b5e68a6c711e",
   "metadata": {},
   "outputs": [],
   "source": [
    "m= np.arange(16).reshape(4,4)"
   ]
  },
  {
   "cell_type": "code",
   "execution_count": 128,
   "id": "aaa7f39d-85b2-4aef-9b68-8c44caf24e43",
   "metadata": {},
   "outputs": [
    {
     "data": {
      "text/plain": [
       "array([[ 0,  1,  2,  3],\n",
       "       [ 4,  5,  6,  7],\n",
       "       [ 8,  9, 10, 11],\n",
       "       [12, 13, 14, 15]])"
      ]
     },
     "execution_count": 128,
     "metadata": {},
     "output_type": "execute_result"
    }
   ],
   "source": [
    "m"
   ]
  },
  {
   "cell_type": "code",
   "execution_count": 129,
   "id": "9b8873cd-7dd9-4f88-a76c-b0e07cf90290",
   "metadata": {},
   "outputs": [
    {
     "data": {
      "text/plain": [
       "[array([[ 0,  1],\n",
       "        [ 4,  5],\n",
       "        [ 8,  9],\n",
       "        [12, 13]]),\n",
       " array([[ 2,  3],\n",
       "        [ 6,  7],\n",
       "        [10, 11],\n",
       "        [14, 15]])]"
      ]
     },
     "execution_count": 129,
     "metadata": {},
     "output_type": "execute_result"
    }
   ],
   "source": [
    "np.hsplit(m,[2])"
   ]
  },
  {
   "cell_type": "code",
   "execution_count": 130,
   "id": "d959f5a7-4a48-4a80-91d8-0453b11b6b1e",
   "metadata": {},
   "outputs": [],
   "source": [
    "sag, sol = np.hsplit(m,[2])"
   ]
  },
  {
   "cell_type": "code",
   "execution_count": 131,
   "id": "33813287-0d47-491e-9b81-0b40dc2797ea",
   "metadata": {},
   "outputs": [
    {
     "data": {
      "text/plain": [
       "array([[ 0,  1],\n",
       "       [ 4,  5],\n",
       "       [ 8,  9],\n",
       "       [12, 13]])"
      ]
     },
     "execution_count": 131,
     "metadata": {},
     "output_type": "execute_result"
    }
   ],
   "source": [
    "sag"
   ]
  },
  {
   "cell_type": "code",
   "execution_count": 132,
   "id": "1d88d270-230d-4cb3-bff0-e88bcaaafcbd",
   "metadata": {},
   "outputs": [
    {
     "data": {
      "text/plain": [
       "array([[ 2,  3],\n",
       "       [ 6,  7],\n",
       "       [10, 11],\n",
       "       [14, 15]])"
      ]
     },
     "execution_count": 132,
     "metadata": {},
     "output_type": "execute_result"
    }
   ],
   "source": [
    "sol"
   ]
  },
  {
   "cell_type": "markdown",
   "id": "4afad845-d36c-4276-9cfa-6a0868fc5b66",
   "metadata": {},
   "source": [
    "## ARRAY SIRALAMA (SORTING)"
   ]
  },
  {
   "cell_type": "code",
   "execution_count": 134,
   "id": "29d9f987-74b4-401d-a6ea-1a5e588ae43c",
   "metadata": {},
   "outputs": [],
   "source": [
    "import numpy as np"
   ]
  },
  {
   "cell_type": "code",
   "execution_count": 135,
   "id": "2aa13a47-239a-42e2-8040-cefdfbfd105a",
   "metadata": {},
   "outputs": [],
   "source": [
    "v= np.array ([2,1,4,3,5])"
   ]
  },
  {
   "cell_type": "code",
   "execution_count": 136,
   "id": "49edd005-9eb1-4bc3-b918-9abda5789fda",
   "metadata": {},
   "outputs": [
    {
     "data": {
      "text/plain": [
       "array([2, 1, 4, 3, 5])"
      ]
     },
     "execution_count": 136,
     "metadata": {},
     "output_type": "execute_result"
    }
   ],
   "source": [
    "v"
   ]
  },
  {
   "cell_type": "code",
   "execution_count": 137,
   "id": "b6be8461-b187-42f8-9f13-e0585ec43a4f",
   "metadata": {},
   "outputs": [
    {
     "data": {
      "text/plain": [
       "array([1, 2, 3, 4, 5])"
      ]
     },
     "execution_count": 137,
     "metadata": {},
     "output_type": "execute_result"
    }
   ],
   "source": [
    "np.sort(v)"
   ]
  },
  {
   "cell_type": "markdown",
   "id": "6393ca4a-ca7b-4fde-9171-3002b6041c4d",
   "metadata": {},
   "source": [
    "küçükten büyüğe sıraladım.."
   ]
  },
  {
   "cell_type": "markdown",
   "id": "24d57425-c0ec-4773-803c-01e238f90e78",
   "metadata": {},
   "source": [
    "## 2 Boyutla Sıralama / Array"
   ]
  },
  {
   "cell_type": "code",
   "execution_count": 139,
   "id": "6ec69bad-bf91-4c32-b40e-b034e0b860d1",
   "metadata": {},
   "outputs": [],
   "source": [
    "m = np.random.normal(20,5,(3,3))"
   ]
  },
  {
   "cell_type": "code",
   "execution_count": 140,
   "id": "01a02239-4dcc-44a0-9649-c8e49ed8c890",
   "metadata": {},
   "outputs": [
    {
     "data": {
      "text/plain": [
       "array([[14.08251211, 12.69971143, 20.69321591],\n",
       "       [23.48503731, 16.70788636, 22.3513893 ],\n",
       "       [31.00238236, 20.50467183, 27.30908905]])"
      ]
     },
     "execution_count": 140,
     "metadata": {},
     "output_type": "execute_result"
    }
   ],
   "source": [
    "m"
   ]
  },
  {
   "cell_type": "markdown",
   "id": "3699795a-5a21-4b9e-b58d-c31a1781d1b2",
   "metadata": {},
   "source": [
    "ortalaması 20 olan, standart sapması 5 olan (3,3) olan bir array"
   ]
  },
  {
   "cell_type": "markdown",
   "id": "5d4de00a-bdee-47e7-b456-73d33ae86718",
   "metadata": {},
   "source": [
    "## 2 Boyutlu Array satırlarını sıralayalım: küçükten büyüğe\n"
   ]
  },
  {
   "cell_type": "code",
   "execution_count": 143,
   "id": "aa7300ab-a266-43d9-a5d9-ea3293b6b466",
   "metadata": {},
   "outputs": [
    {
     "data": {
      "text/plain": [
       "array([[12.69971143, 14.08251211, 20.69321591],\n",
       "       [16.70788636, 22.3513893 , 23.48503731],\n",
       "       [20.50467183, 27.30908905, 31.00238236]])"
      ]
     },
     "execution_count": 143,
     "metadata": {},
     "output_type": "execute_result"
    }
   ],
   "source": [
    "np.sort(m, axis= 1)"
   ]
  },
  {
   "cell_type": "markdown",
   "id": "e832d44e-4aec-4edd-8573-1b0c64f42bce",
   "metadata": {},
   "source": [
    "## 2 Boyutlu Array sütunlarını sıralayalım: küçükten büyüğe"
   ]
  },
  {
   "cell_type": "code",
   "execution_count": 144,
   "id": "f05877e2-ad0c-427b-a7ed-7239744f1614",
   "metadata": {},
   "outputs": [
    {
     "data": {
      "text/plain": [
       "array([[14.08251211, 12.69971143, 20.69321591],\n",
       "       [23.48503731, 16.70788636, 22.3513893 ],\n",
       "       [31.00238236, 20.50467183, 27.30908905]])"
      ]
     },
     "execution_count": 144,
     "metadata": {},
     "output_type": "execute_result"
    }
   ],
   "source": [
    "np.sort(m, axis= 0)"
   ]
  },
  {
   "cell_type": "markdown",
   "id": "84650d64-2b94-435c-a42a-e57faedc4e8b",
   "metadata": {},
   "source": [
    "## Index İle ELemanlara Erişmek"
   ]
  },
  {
   "cell_type": "markdown",
   "id": "9a287677-29d2-443e-a31d-8b83099511a1",
   "metadata": {},
   "source": [
    "## Tek Boyutlu Arraylarda Index"
   ]
  },
  {
   "cell_type": "code",
   "execution_count": 146,
   "id": "3cc4ed82-f3b1-4286-bb00-dfa5ba249b0a",
   "metadata": {},
   "outputs": [
    {
     "data": {
      "text/plain": [
       "array([3, 3, 7, 1, 6, 2, 6, 2, 9, 0])"
      ]
     },
     "execution_count": 146,
     "metadata": {},
     "output_type": "execute_result"
    }
   ],
   "source": [
    "import numpy as np\n",
    "a= np.random.randint (10, size=10)\n",
    "a"
   ]
  },
  {
   "cell_type": "code",
   "execution_count": 147,
   "id": "00962ad4-7fb6-4d56-8a17-2b46ccfe0d36",
   "metadata": {},
   "outputs": [
    {
     "data": {
      "text/plain": [
       "3"
      ]
     },
     "execution_count": 147,
     "metadata": {},
     "output_type": "execute_result"
    }
   ],
   "source": [
    "a[0]"
   ]
  },
  {
   "cell_type": "code",
   "execution_count": 148,
   "id": "faad29a7-086f-4435-a4ed-57a1395ef88e",
   "metadata": {},
   "outputs": [
    {
     "data": {
      "text/plain": [
       "0"
      ]
     },
     "execution_count": 148,
     "metadata": {},
     "output_type": "execute_result"
    }
   ],
   "source": [
    "a[-1]"
   ]
  },
  {
   "cell_type": "markdown",
   "id": "9a7fa29f-426b-490e-8fa9-c38043bbc723",
   "metadata": {},
   "source": [
    "-1 tersten erısım demek"
   ]
  },
  {
   "cell_type": "code",
   "execution_count": 149,
   "id": "346f1406-322b-417a-bb5e-aa55fc5897a1",
   "metadata": {},
   "outputs": [
    {
     "data": {
      "text/plain": [
       "2"
      ]
     },
     "execution_count": 149,
     "metadata": {},
     "output_type": "execute_result"
    }
   ],
   "source": [
    "a[5]"
   ]
  },
  {
   "cell_type": "markdown",
   "id": "fac9c925-166a-4218-ae91-c5b6a77cb8d9",
   "metadata": {},
   "source": [
    "## a[0]=100 olmasını istiyoruz. / Indeks elemanına değiştirmek"
   ]
  },
  {
   "cell_type": "code",
   "execution_count": 150,
   "id": "b2a5f685-ff6a-4dd8-a2b0-7a3b977075a1",
   "metadata": {},
   "outputs": [],
   "source": [
    "a[0]=100"
   ]
  },
  {
   "cell_type": "code",
   "execution_count": 151,
   "id": "7c33c14e-56b0-402f-8406-313bd726df64",
   "metadata": {},
   "outputs": [
    {
     "data": {
      "text/plain": [
       "array([100,   3,   7,   1,   6,   2,   6,   2,   9,   0])"
      ]
     },
     "execution_count": 151,
     "metadata": {},
     "output_type": "execute_result"
    }
   ],
   "source": [
    "a"
   ]
  },
  {
   "cell_type": "markdown",
   "id": "fe1287ba-358d-4a30-8143-53cfa853cb73",
   "metadata": {},
   "source": [
    "## 2 Boyutlu Arraylarda Index"
   ]
  },
  {
   "cell_type": "code",
   "execution_count": 154,
   "id": "7a983708-642a-48b4-89d5-e538846013ec",
   "metadata": {},
   "outputs": [],
   "source": [
    "import numpy as np"
   ]
  },
  {
   "cell_type": "code",
   "execution_count": 158,
   "id": "49af4621-2ab0-4def-9a72-d94ee458226c",
   "metadata": {},
   "outputs": [
    {
     "data": {
      "text/plain": [
       "array([[6, 5, 8, 3, 7],\n",
       "       [6, 8, 8, 5, 5],\n",
       "       [5, 1, 9, 7, 6]])"
      ]
     },
     "execution_count": 158,
     "metadata": {},
     "output_type": "execute_result"
    }
   ],
   "source": [
    "m= np.random.randint (10, size=(3,5))\n",
    "m"
   ]
  },
  {
   "cell_type": "code",
   "execution_count": 159,
   "id": "98e685b9-184f-44d6-a4a9-7aaf2546afa7",
   "metadata": {},
   "outputs": [
    {
     "data": {
      "text/plain": [
       "6"
      ]
     },
     "execution_count": 159,
     "metadata": {},
     "output_type": "execute_result"
    }
   ],
   "source": [
    "m[0,0]"
   ]
  },
  {
   "cell_type": "code",
   "execution_count": 160,
   "id": "605c8e67-6ff2-4bc9-a0b6-ecd492d66890",
   "metadata": {},
   "outputs": [
    {
     "data": {
      "text/plain": [
       "8"
      ]
     },
     "execution_count": 160,
     "metadata": {},
     "output_type": "execute_result"
    }
   ],
   "source": [
    "m[1,1]"
   ]
  },
  {
   "cell_type": "code",
   "execution_count": 161,
   "id": "0189de94-02ff-44c4-abdc-b5001f31d201",
   "metadata": {},
   "outputs": [
    {
     "data": {
      "text/plain": [
       "5"
      ]
     },
     "execution_count": 161,
     "metadata": {},
     "output_type": "execute_result"
    }
   ],
   "source": [
    "m[1,4]"
   ]
  },
  {
   "cell_type": "markdown",
   "id": "a6f7d85f-f036-4c86-87ed-a9d4a27bb3a1",
   "metadata": {},
   "source": [
    "## 2 Boyutlularda Arreylerde Index Değiştirme"
   ]
  },
  {
   "cell_type": "code",
   "execution_count": 162,
   "id": "682987c1-96e6-4239-a417-9ffcc5271b66",
   "metadata": {},
   "outputs": [],
   "source": [
    "m[1,4]=99"
   ]
  },
  {
   "cell_type": "code",
   "execution_count": 163,
   "id": "2a62790b-bf6d-477d-a1d4-ff4d1beeaf90",
   "metadata": {},
   "outputs": [
    {
     "data": {
      "text/plain": [
       "array([[ 6,  5,  8,  3,  7],\n",
       "       [ 6,  8,  8,  5, 99],\n",
       "       [ 5,  1,  9,  7,  6]])"
      ]
     },
     "execution_count": 163,
     "metadata": {},
     "output_type": "execute_result"
    }
   ],
   "source": [
    "m"
   ]
  },
  {
   "cell_type": "markdown",
   "id": "d035d193-0148-463c-9fe6-aa16eb769714",
   "metadata": {},
   "source": [
    "## 2 Boyutlularda Arreylerde Float Index Ekleme"
   ]
  },
  {
   "cell_type": "code",
   "execution_count": 165,
   "id": "825e11a6-6c40-4091-a707-dccb46bd2f90",
   "metadata": {},
   "outputs": [],
   "source": [
    "m[1,4]=2.2"
   ]
  },
  {
   "cell_type": "code",
   "execution_count": 166,
   "id": "e8038962-4700-4187-a44f-228a3edd7e5b",
   "metadata": {},
   "outputs": [
    {
     "data": {
      "text/plain": [
       "array([[6, 5, 8, 3, 7],\n",
       "       [6, 8, 8, 5, 2],\n",
       "       [5, 1, 9, 7, 6]])"
      ]
     },
     "execution_count": 166,
     "metadata": {},
     "output_type": "execute_result"
    }
   ],
   "source": [
    "m"
   ]
  },
  {
   "cell_type": "code",
   "execution_count": null,
   "id": "de5cd5f1-a6f2-42f3-b7ff-36e096875c5d",
   "metadata": {},
   "outputs": [],
   "source": [
    "başka tipte bır ekleme yapınca kabul  etmedı. var olan bır arraye başka bir\n",
    "tip ekleyınce kabul etmedı."
   ]
  },
  {
   "cell_type": "code",
   "execution_count": null,
   "id": "7258ccad-2524-485d-a721-965d22e626bb",
   "metadata": {},
   "outputs": [],
   "source": []
  },
  {
   "cell_type": "markdown",
   "id": "70d15a5d-4f3d-481f-ae27-b3ebcd833f64",
   "metadata": {},
   "source": [
    "## SLICING İLE ELEMANLARA ERİŞMEK (ARRAY ALT KÜMESİNE ERİŞMEK)"
   ]
  },
  {
   "cell_type": "markdown",
   "id": "be04c396-69fe-4893-b0f1-d0f2e8db5e05",
   "metadata": {},
   "source": [
    "## Tek boyutlu slice işlemleri"
   ]
  },
  {
   "cell_type": "code",
   "execution_count": 169,
   "id": "d2c9651f-ec4b-46d5-ac32-302fc221a0c2",
   "metadata": {},
   "outputs": [],
   "source": [
    "import numpy as np"
   ]
  },
  {
   "cell_type": "code",
   "execution_count": 170,
   "id": "5d51bfce-2331-4351-aa7e-efe585bea862",
   "metadata": {},
   "outputs": [
    {
     "data": {
      "text/plain": [
       "array([20, 21, 22, 23, 24, 25, 26, 27, 28, 29])"
      ]
     },
     "execution_count": 170,
     "metadata": {},
     "output_type": "execute_result"
    }
   ],
   "source": [
    "a= np.arange(20,30)\n",
    "a"
   ]
  },
  {
   "cell_type": "code",
   "execution_count": 171,
   "id": "62aaafdd-3a90-4204-af86-41ebed58a8d7",
   "metadata": {},
   "outputs": [
    {
     "data": {
      "text/plain": [
       "array([20, 21, 22])"
      ]
     },
     "execution_count": 171,
     "metadata": {},
     "output_type": "execute_result"
    }
   ],
   "source": [
    "a[0:3]"
   ]
  },
  {
   "cell_type": "code",
   "execution_count": 172,
   "id": "d06d9672-63de-4e40-9fad-84661c6adf8e",
   "metadata": {},
   "outputs": [
    {
     "data": {
      "text/plain": [
       "array([20, 21, 22])"
      ]
     },
     "execution_count": 172,
     "metadata": {},
     "output_type": "execute_result"
    }
   ],
   "source": [
    "a[:3]"
   ]
  },
  {
   "cell_type": "code",
   "execution_count": 173,
   "id": "42f24f12-d020-4505-99ec-4ab1e49e733f",
   "metadata": {},
   "outputs": [
    {
     "data": {
      "text/plain": [
       "array([20, 21, 22])"
      ]
     },
     "execution_count": 173,
     "metadata": {},
     "output_type": "execute_result"
    }
   ],
   "source": [
    "a[0:3]"
   ]
  },
  {
   "cell_type": "code",
   "execution_count": 175,
   "id": "7f65b772-fda3-439a-8f15-45e01be02fdd",
   "metadata": {},
   "outputs": [
    {
     "data": {
      "text/plain": [
       "array([23, 24, 25, 26, 27, 28, 29])"
      ]
     },
     "execution_count": 175,
     "metadata": {},
     "output_type": "execute_result"
    }
   ],
   "source": [
    "a[3:]"
   ]
  },
  {
   "cell_type": "code",
   "execution_count": 176,
   "id": "0529a08b-4f20-40ac-abec-3ef76da379b2",
   "metadata": {},
   "outputs": [
    {
     "data": {
      "text/plain": [
       "array([21, 23, 25, 27, 29])"
      ]
     },
     "execution_count": 176,
     "metadata": {},
     "output_type": "execute_result"
    }
   ],
   "source": [
    "a[1::2]"
   ]
  },
  {
   "cell_type": "code",
   "execution_count": 177,
   "id": "69a1b4e5-41aa-46ad-b428-97b0666de37e",
   "metadata": {},
   "outputs": [
    {
     "data": {
      "text/plain": [
       "array([20, 22, 24, 26, 28])"
      ]
     },
     "execution_count": 177,
     "metadata": {},
     "output_type": "execute_result"
    }
   ],
   "source": [
    "a[0::2]"
   ]
  },
  {
   "cell_type": "markdown",
   "id": "c931ea3d-f57e-4e1b-8fef-c292ac7be046",
   "metadata": {},
   "source": [
    "## 2 boyutlu slice işlemleri"
   ]
  },
  {
   "cell_type": "code",
   "execution_count": 178,
   "id": "cf73af6f-dda8-44de-8538-489e823654ab",
   "metadata": {},
   "outputs": [],
   "source": [
    "m= np.random.randint(10, size= (5,5))"
   ]
  },
  {
   "cell_type": "code",
   "execution_count": 179,
   "id": "95f8d9e1-aad1-4f6d-9f83-696d9a5faab1",
   "metadata": {},
   "outputs": [
    {
     "data": {
      "text/plain": [
       "array([[5, 5, 0, 9, 7],\n",
       "       [2, 2, 4, 7, 0],\n",
       "       [3, 0, 6, 3, 4],\n",
       "       [2, 4, 7, 0, 6],\n",
       "       [5, 2, 9, 3, 4]])"
      ]
     },
     "execution_count": 179,
     "metadata": {},
     "output_type": "execute_result"
    }
   ],
   "source": [
    "m"
   ]
  },
  {
   "cell_type": "markdown",
   "id": "f5397610-dd59-4724-abcb-eb555afa3e13",
   "metadata": {},
   "source": [
    "Bütün satırları seç, 0. sütunu seç"
   ]
  },
  {
   "cell_type": "code",
   "execution_count": 182,
   "id": "f4934d0c-7344-42b7-92f1-82f0a0ba89c8",
   "metadata": {},
   "outputs": [
    {
     "data": {
      "text/plain": [
       "array([5, 2, 3, 2, 5])"
      ]
     },
     "execution_count": 182,
     "metadata": {},
     "output_type": "execute_result"
    }
   ],
   "source": [
    "m[:,0]"
   ]
  },
  {
   "cell_type": "markdown",
   "id": "610a8187-ba0b-4323-b8c6-6463c07f0d8b",
   "metadata": {},
   "source": [
    "bütün satırları seç, 1.sütunu seç"
   ]
  },
  {
   "cell_type": "code",
   "execution_count": 183,
   "id": "23d26163-1797-4537-baa2-ec4a581e528b",
   "metadata": {},
   "outputs": [
    {
     "data": {
      "text/plain": [
       "array([5, 2, 0, 4, 2])"
      ]
     },
     "execution_count": 183,
     "metadata": {},
     "output_type": "execute_result"
    }
   ],
   "source": [
    "m[:,1]"
   ]
  },
  {
   "cell_type": "markdown",
   "id": "84d5dc2f-6f10-4039-bcf9-1b9267e1fcf1",
   "metadata": {},
   "source": [
    "Satırlarda seçme işlemi"
   ]
  },
  {
   "cell_type": "code",
   "execution_count": 186,
   "id": "c489b46b-3c8e-4626-bf90-f17d9f282bc5",
   "metadata": {},
   "outputs": [
    {
     "data": {
      "text/plain": [
       "array([5, 5, 0, 9, 7])"
      ]
     },
     "execution_count": 186,
     "metadata": {},
     "output_type": "execute_result"
    }
   ],
   "source": [
    "m[0,:]"
   ]
  },
  {
   "cell_type": "code",
   "execution_count": 187,
   "id": "448460d1-7671-452c-9a56-8333171a441c",
   "metadata": {},
   "outputs": [
    {
     "data": {
      "text/plain": [
       "array([2, 2, 4, 7, 0])"
      ]
     },
     "execution_count": 187,
     "metadata": {},
     "output_type": "execute_result"
    }
   ],
   "source": [
    "m[1,:]"
   ]
  },
  {
   "cell_type": "markdown",
   "id": "2b2c0533-3d44-4d51-8818-30c14c5e36ef",
   "metadata": {},
   "source": [
    "SATIR VE SÜTUNLARA ERİŞMEK"
   ]
  },
  {
   "cell_type": "code",
   "execution_count": 189,
   "id": "8dd5dcbf-9fff-4699-b897-8f7d4c255a63",
   "metadata": {},
   "outputs": [
    {
     "data": {
      "text/plain": [
       "array([[5, 5, 0],\n",
       "       [2, 2, 4]])"
      ]
     },
     "execution_count": 189,
     "metadata": {},
     "output_type": "execute_result"
    }
   ],
   "source": [
    "m[0:2, 0:3]"
   ]
  },
  {
   "cell_type": "code",
   "execution_count": 191,
   "id": "21ba17cd-81e3-407f-adb5-69809cc7447a",
   "metadata": {},
   "outputs": [
    {
     "data": {
      "text/plain": [
       "array([[5, 5],\n",
       "       [2, 2],\n",
       "       [3, 0],\n",
       "       [2, 4],\n",
       "       [5, 2]])"
      ]
     },
     "execution_count": 191,
     "metadata": {},
     "output_type": "execute_result"
    }
   ],
   "source": [
    "m[::,:2]"
   ]
  },
  {
   "cell_type": "markdown",
   "id": "96f8ab7e-419c-4ac7-bbed-8c836581b1bd",
   "metadata": {},
   "source": [
    "## Alt Küme Üzerinde İşlem Yapmak"
   ]
  },
  {
   "cell_type": "code",
   "execution_count": 193,
   "id": "f77182b9-6c2e-4d58-8a38-e684a1ce3567",
   "metadata": {},
   "outputs": [],
   "source": [
    "import numpy as np"
   ]
  },
  {
   "cell_type": "code",
   "execution_count": 194,
   "id": "1fb74eac-94f6-4469-b930-b431106bcec0",
   "metadata": {},
   "outputs": [],
   "source": [
    "a=np.random.randint(10, size=(5,5))"
   ]
  },
  {
   "cell_type": "code",
   "execution_count": 195,
   "id": "68d7f8ef-f857-43f2-a06e-a342617b4486",
   "metadata": {},
   "outputs": [
    {
     "data": {
      "text/plain": [
       "array([[2, 5, 3, 9, 5],\n",
       "       [0, 4, 6, 4, 7],\n",
       "       [3, 6, 1, 7, 8],\n",
       "       [1, 4, 7, 0, 8],\n",
       "       [4, 1, 0, 4, 0]])"
      ]
     },
     "execution_count": 195,
     "metadata": {},
     "output_type": "execute_result"
    }
   ],
   "source": [
    "a"
   ]
  },
  {
   "cell_type": "code",
   "execution_count": 196,
   "id": "97a94ef0-91e7-4933-9d29-120848f127a4",
   "metadata": {},
   "outputs": [],
   "source": [
    "alt_a=a[0:3, 0:2]"
   ]
  },
  {
   "cell_type": "code",
   "execution_count": 197,
   "id": "8401628a-c141-43ad-994c-4a163b8dab5e",
   "metadata": {},
   "outputs": [
    {
     "data": {
      "text/plain": [
       "array([[2, 5],\n",
       "       [0, 4],\n",
       "       [3, 6]])"
      ]
     },
     "execution_count": 197,
     "metadata": {},
     "output_type": "execute_result"
    }
   ],
   "source": [
    "alt_a"
   ]
  },
  {
   "cell_type": "code",
   "execution_count": 198,
   "id": "6a7ca0ee-7fba-448c-9343-269aecdef56f",
   "metadata": {},
   "outputs": [],
   "source": [
    "alt_a[0,0]=9999\n",
    "alt_a[1,1]=888"
   ]
  },
  {
   "cell_type": "code",
   "execution_count": 199,
   "id": "816d087f-66d5-4264-9aa9-799e3a66ef53",
   "metadata": {},
   "outputs": [
    {
     "data": {
      "text/plain": [
       "array([[9999,    5],\n",
       "       [   0,  888],\n",
       "       [   3,    6]])"
      ]
     },
     "execution_count": 199,
     "metadata": {},
     "output_type": "execute_result"
    }
   ],
   "source": [
    "alt_a"
   ]
  },
  {
   "cell_type": "code",
   "execution_count": 200,
   "id": "3c9ffd4d-1c70-4b23-b5ed-94d4a1c7c6e7",
   "metadata": {},
   "outputs": [
    {
     "data": {
      "text/plain": [
       "array([[9999,    5,    3,    9,    5],\n",
       "       [   0,  888,    6,    4,    7],\n",
       "       [   3,    6,    1,    7,    8],\n",
       "       [   1,    4,    7,    0,    8],\n",
       "       [   4,    1,    0,    4,    0]])"
      ]
     },
     "execution_count": 200,
     "metadata": {},
     "output_type": "execute_result"
    }
   ],
   "source": [
    "a"
   ]
  },
  {
   "cell_type": "code",
   "execution_count": null,
   "id": "2943bd1b-80c1-4bc5-884f-82b55632dd10",
   "metadata": {},
   "outputs": [],
   "source": [
    "Alt kume üzerinde değişiklik yapınca tüm kümede değişiklik yapmış olur."
   ]
  },
  {
   "cell_type": "markdown",
   "id": "c81e4312-4c55-4de3-9ccd-51d1bad1a187",
   "metadata": {},
   "source": [
    "Ana parçamızı bozmamak istemeyız bazen, bazen arrayın alt kumesınde degısıklık yapmak\n",
    "isteriz. Ana arrayımız bozmak istemeyız. bunun ıcın copy metodu kullanırız."
   ]
  },
  {
   "cell_type": "code",
   "execution_count": 201,
   "id": "8e84b4d7-23c8-4c02-bc02-d1f141d6cbb5",
   "metadata": {},
   "outputs": [
    {
     "data": {
      "text/plain": [
       "array([[1, 0, 0, 2, 4],\n",
       "       [7, 6, 2, 9, 7],\n",
       "       [2, 1, 3, 9, 0],\n",
       "       [4, 3, 2, 1, 6],\n",
       "       [9, 6, 3, 8, 3]])"
      ]
     },
     "execution_count": 201,
     "metadata": {},
     "output_type": "execute_result"
    }
   ],
   "source": [
    "m=np.random.randint(10, size=(5,5))\n",
    "m"
   ]
  },
  {
   "cell_type": "code",
   "execution_count": 202,
   "id": "38c4f913-ccdc-4663-935f-5866929e025f",
   "metadata": {},
   "outputs": [],
   "source": [
    "alt_b=m[0:3, 0:2].copy()"
   ]
  },
  {
   "cell_type": "code",
   "execution_count": null,
   "id": "677755d3-8cb4-4564-89e4-aad92e07f84c",
   "metadata": {},
   "outputs": [],
   "source": [
    "copy metodu ana arrayden bagımsızlastırdı"
   ]
  },
  {
   "cell_type": "code",
   "execution_count": 203,
   "id": "c4b02753-a673-4f76-b1f6-e62068f820d6",
   "metadata": {},
   "outputs": [
    {
     "data": {
      "text/plain": [
       "array([[1, 0],\n",
       "       [7, 6],\n",
       "       [2, 1]])"
      ]
     },
     "execution_count": 203,
     "metadata": {},
     "output_type": "execute_result"
    }
   ],
   "source": [
    "alt_b"
   ]
  },
  {
   "cell_type": "code",
   "execution_count": 204,
   "id": "d3f3c716-1946-49c7-9193-2c800d4a4679",
   "metadata": {},
   "outputs": [],
   "source": [
    "alt_b[0,0]=9999\n"
   ]
  },
  {
   "cell_type": "code",
   "execution_count": 205,
   "id": "ee98e334-1311-4db9-8131-bdf03a354e9d",
   "metadata": {},
   "outputs": [
    {
     "data": {
      "text/plain": [
       "array([[9999,    0],\n",
       "       [   7,    6],\n",
       "       [   2,    1]])"
      ]
     },
     "execution_count": 205,
     "metadata": {},
     "output_type": "execute_result"
    }
   ],
   "source": [
    "alt_b"
   ]
  },
  {
   "cell_type": "code",
   "execution_count": 206,
   "id": "bbbee11e-26ac-4e35-af6f-23c2fdf29d8a",
   "metadata": {},
   "outputs": [
    {
     "data": {
      "text/plain": [
       "array([[1, 0, 0, 2, 4],\n",
       "       [7, 6, 2, 9, 7],\n",
       "       [2, 1, 3, 9, 0],\n",
       "       [4, 3, 2, 1, 6],\n",
       "       [9, 6, 3, 8, 3]])"
      ]
     },
     "execution_count": 206,
     "metadata": {},
     "output_type": "execute_result"
    }
   ],
   "source": [
    "m"
   ]
  },
  {
   "cell_type": "markdown",
   "id": "c0c9a81e-afcf-4518-8550-410397071d3a",
   "metadata": {},
   "source": [
    "olusturdugumuz oldugumuz ilk arrayın yapısında hıcbır degıısılık olmadı. \n",
    "alt kumede degıısklık meydana gelmış oldu"
   ]
  },
  {
   "cell_type": "code",
   "execution_count": null,
   "id": "6d1c86e7-febb-4848-898a-ca5ef6f26d42",
   "metadata": {},
   "outputs": [],
   "source": []
  },
  {
   "cell_type": "markdown",
   "id": "756b257d-6bb3-4a09-a041-5db9fe8ff674",
   "metadata": {},
   "source": [
    "## Fancy ındex ile Elemanlara Erişmek"
   ]
  },
  {
   "cell_type": "markdown",
   "id": "c923758e-d694-4613-8392-5449cf4e4e88",
   "metadata": {},
   "source": [
    "## tek boyutta fancy"
   ]
  },
  {
   "cell_type": "code",
   "execution_count": 207,
   "id": "a8635128-18d4-4d59-a50e-7f1836735738",
   "metadata": {},
   "outputs": [
    {
     "data": {
      "text/plain": [
       "array([ 0,  3,  6,  9, 12, 15, 18, 21, 24, 27])"
      ]
     },
     "execution_count": 207,
     "metadata": {},
     "output_type": "execute_result"
    }
   ],
   "source": [
    "import numpy as np\n",
    "v= np.arange(0,30,3)\n",
    "v"
   ]
  },
  {
   "cell_type": "code",
   "execution_count": 208,
   "id": "d3f514e5-6a9b-4c4a-acff-e5e9af1c1499",
   "metadata": {},
   "outputs": [
    {
     "data": {
      "text/plain": [
       "3"
      ]
     },
     "execution_count": 208,
     "metadata": {},
     "output_type": "execute_result"
    }
   ],
   "source": [
    "v[1]"
   ]
  },
  {
   "cell_type": "code",
   "execution_count": 209,
   "id": "e95fd242-09cd-470e-9326-cc15a363fb32",
   "metadata": {},
   "outputs": [
    {
     "data": {
      "text/plain": [
       "15"
      ]
     },
     "execution_count": 209,
     "metadata": {},
     "output_type": "execute_result"
    }
   ],
   "source": [
    "v[5]"
   ]
  },
  {
   "cell_type": "code",
   "execution_count": 210,
   "id": "c383993a-e561-4907-b549-747df510d018",
   "metadata": {},
   "outputs": [
    {
     "data": {
      "text/plain": [
       "9"
      ]
     },
     "execution_count": 210,
     "metadata": {},
     "output_type": "execute_result"
    }
   ],
   "source": [
    "v[3]"
   ]
  },
  {
   "cell_type": "markdown",
   "id": "ca190f68-b4ca-4c9f-8ed5-1feea0d379e2",
   "metadata": {},
   "source": [
    "bunları bırarada görmek istersem:"
   ]
  },
  {
   "cell_type": "code",
   "execution_count": 212,
   "id": "fd1346aa-1890-4721-ae4c-5d818fcf4a3f",
   "metadata": {},
   "outputs": [
    {
     "data": {
      "text/plain": [
       "[3, 9, 15]"
      ]
     },
     "execution_count": 212,
     "metadata": {},
     "output_type": "execute_result"
    }
   ],
   "source": [
    "[v[1],v[3],v[5]]"
   ]
  },
  {
   "cell_type": "markdown",
   "id": "6d722383-66e1-4606-ad6f-53f0ca8e3a79",
   "metadata": {},
   "source": [
    "#fency işlemi ile kolay yoldan yapmak:"
   ]
  },
  {
   "cell_type": "code",
   "execution_count": 214,
   "id": "4e57f74c-076f-4add-9987-00d5c04193f6",
   "metadata": {},
   "outputs": [],
   "source": [
    "al_getir=[1,3,5]"
   ]
  },
  {
   "cell_type": "code",
   "execution_count": 215,
   "id": "c4ade2ef-ba56-4376-b04d-955e9125b59a",
   "metadata": {},
   "outputs": [
    {
     "data": {
      "text/plain": [
       "array([ 0,  3,  6,  9, 12, 15, 18, 21, 24, 27])"
      ]
     },
     "execution_count": 215,
     "metadata": {},
     "output_type": "execute_result"
    }
   ],
   "source": [
    "v"
   ]
  },
  {
   "cell_type": "code",
   "execution_count": 216,
   "id": "1812d87d-ee34-41b7-adec-7fb012060d28",
   "metadata": {},
   "outputs": [
    {
     "data": {
      "text/plain": [
       "array([ 3,  9, 15])"
      ]
     },
     "execution_count": 216,
     "metadata": {},
     "output_type": "execute_result"
    }
   ],
   "source": [
    "v[al_getir]"
   ]
  },
  {
   "cell_type": "markdown",
   "id": "7d899624-1680-4d66-995e-9f47d6859102",
   "metadata": {},
   "source": [
    "## iki boyutta fancy"
   ]
  },
  {
   "cell_type": "code",
   "execution_count": 218,
   "id": "fde73001-33c6-4809-9ebf-935d065b5a20",
   "metadata": {},
   "outputs": [],
   "source": [
    "m=np.arange(9).reshape((3,3))"
   ]
  },
  {
   "cell_type": "code",
   "execution_count": 219,
   "id": "da7f2159-44df-48fc-8ee2-a48c4297c65d",
   "metadata": {},
   "outputs": [
    {
     "data": {
      "text/plain": [
       "array([[0, 1, 2],\n",
       "       [3, 4, 5],\n",
       "       [6, 7, 8]])"
      ]
     },
     "execution_count": 219,
     "metadata": {},
     "output_type": "execute_result"
    }
   ],
   "source": [
    "m"
   ]
  },
  {
   "cell_type": "code",
   "execution_count": 220,
   "id": "6df7d63a-df60-4723-a003-5578b388923b",
   "metadata": {},
   "outputs": [],
   "source": [
    "satir=np.array([0,1])\n",
    "sutun=np.array([1,2])"
   ]
  },
  {
   "cell_type": "code",
   "execution_count": 221,
   "id": "4fb7ad60-478b-4a9a-838a-86a66754fdc2",
   "metadata": {},
   "outputs": [
    {
     "data": {
      "text/plain": [
       "array([1, 5])"
      ]
     },
     "execution_count": 221,
     "metadata": {},
     "output_type": "execute_result"
    }
   ],
   "source": [
    "m[satir,sutun]"
   ]
  },
  {
   "cell_type": "markdown",
   "id": "65527ee6-d9ca-4024-9b48-9815ed2a3471",
   "metadata": {},
   "source": [
    "## Basıt index ile FANCY iNDEX"
   ]
  },
  {
   "cell_type": "code",
   "execution_count": 223,
   "id": "38889ec4-cd41-4267-8073-f6556cbff0ac",
   "metadata": {},
   "outputs": [
    {
     "data": {
      "text/plain": [
       "array([[0, 1, 2],\n",
       "       [3, 4, 5],\n",
       "       [6, 7, 8]])"
      ]
     },
     "execution_count": 223,
     "metadata": {},
     "output_type": "execute_result"
    }
   ],
   "source": [
    "m"
   ]
  },
  {
   "cell_type": "code",
   "execution_count": 224,
   "id": "d2c459ea-6ac1-44a0-b07e-1c6894c0a536",
   "metadata": {},
   "outputs": [
    {
     "data": {
      "text/plain": [
       "array([1, 2])"
      ]
     },
     "execution_count": 224,
     "metadata": {},
     "output_type": "execute_result"
    }
   ],
   "source": [
    "m[0,[1,2]]"
   ]
  },
  {
   "cell_type": "markdown",
   "id": "3839aa98-e51c-4483-97e5-47484577bab7",
   "metadata": {},
   "source": [
    "# slice ile fancy"
   ]
  },
  {
   "cell_type": "code",
   "execution_count": 225,
   "id": "58962f10-c7ca-43e6-8880-b5c07114438a",
   "metadata": {},
   "outputs": [
    {
     "data": {
      "text/plain": [
       "array([[1, 2],\n",
       "       [4, 5],\n",
       "       [7, 8]])"
      ]
     },
     "execution_count": 225,
     "metadata": {},
     "output_type": "execute_result"
    }
   ],
   "source": [
    "m[0:, [1,2]]"
   ]
  },
  {
   "cell_type": "markdown",
   "id": "debb980f-5274-4346-b2e7-f12e62a23c13",
   "metadata": {},
   "source": [
    "## Koşullu Eleman İşlemleri"
   ]
  },
  {
   "cell_type": "code",
   "execution_count": 227,
   "id": "191d5c2c-53e5-4777-b9a1-1e21558fa083",
   "metadata": {},
   "outputs": [],
   "source": [
    "import numpy as np\n",
    "v=np.array([1,2,3,4,5])"
   ]
  },
  {
   "cell_type": "code",
   "execution_count": 228,
   "id": "b58b09bb-4d47-48d1-ae75-9b9cdccd9ce9",
   "metadata": {},
   "outputs": [
    {
     "data": {
      "text/plain": [
       "array([1, 2, 3, 4, 5])"
      ]
     },
     "execution_count": 228,
     "metadata": {},
     "output_type": "execute_result"
    }
   ],
   "source": [
    "v"
   ]
  },
  {
   "cell_type": "code",
   "execution_count": 229,
   "id": "5d8ea901-0128-4a6c-91e5-1092cdad3b0f",
   "metadata": {},
   "outputs": [
    {
     "data": {
      "text/plain": [
       "array([False, False, False, False, False])"
      ]
     },
     "execution_count": 229,
     "metadata": {},
     "output_type": "execute_result"
    }
   ],
   "source": [
    "v>5"
   ]
  },
  {
   "cell_type": "code",
   "execution_count": 230,
   "id": "19f31957-ecf4-4af7-aef2-fdc7a58b71d8",
   "metadata": {},
   "outputs": [
    {
     "data": {
      "text/plain": [
       "array([ True,  True, False, False, False])"
      ]
     },
     "execution_count": 230,
     "metadata": {},
     "output_type": "execute_result"
    }
   ],
   "source": [
    "v<3"
   ]
  },
  {
   "cell_type": "code",
   "execution_count": 231,
   "id": "bb7f9cbb-a540-4798-bd7a-273eb22ee0fe",
   "metadata": {},
   "outputs": [
    {
     "data": {
      "text/plain": [
       "array([4, 5])"
      ]
     },
     "execution_count": 231,
     "metadata": {},
     "output_type": "execute_result"
    }
   ],
   "source": [
    "v[v>3]"
   ]
  },
  {
   "cell_type": "code",
   "execution_count": 232,
   "id": "542c507c-d3ec-405a-8749-c9280f7cf778",
   "metadata": {},
   "outputs": [
    {
     "data": {
      "text/plain": [
       "array([3, 4, 5])"
      ]
     },
     "execution_count": 232,
     "metadata": {},
     "output_type": "execute_result"
    }
   ],
   "source": [
    "v[v>=3]"
   ]
  },
  {
   "cell_type": "code",
   "execution_count": 235,
   "id": "ee1c729d-4720-4d1e-9180-503e8ac1ec12",
   "metadata": {},
   "outputs": [
    {
     "data": {
      "text/plain": [
       "array([3])"
      ]
     },
     "execution_count": 235,
     "metadata": {},
     "output_type": "execute_result"
    }
   ],
   "source": [
    "v[v==3]"
   ]
  },
  {
   "cell_type": "code",
   "execution_count": 236,
   "id": "9658843a-e63b-4fa8-9e49-83dc175efc2d",
   "metadata": {},
   "outputs": [
    {
     "data": {
      "text/plain": [
       "array([1, 2, 4, 5])"
      ]
     },
     "execution_count": 236,
     "metadata": {},
     "output_type": "execute_result"
    }
   ],
   "source": [
    "v[v!=3]"
   ]
  },
  {
   "cell_type": "code",
   "execution_count": 240,
   "id": "fb365b2e-6d8e-4caa-be18-9638bbe42ef3",
   "metadata": {},
   "outputs": [
    {
     "data": {
      "text/plain": [
       "array([1, 2, 3, 4, 5])"
      ]
     },
     "execution_count": 240,
     "metadata": {},
     "output_type": "execute_result"
    }
   ],
   "source": [
    "v"
   ]
  },
  {
   "cell_type": "code",
   "execution_count": 241,
   "id": "3eda8786-8f91-4fa2-bb8c-677cf4f5231d",
   "metadata": {},
   "outputs": [
    {
     "data": {
      "text/plain": [
       "array([ 1,  4,  9, 16, 25])"
      ]
     },
     "execution_count": 241,
     "metadata": {},
     "output_type": "execute_result"
    }
   ],
   "source": [
    "v**2"
   ]
  },
  {
   "cell_type": "code",
   "execution_count": null,
   "id": "ffab36bf-94fa-47bd-9ed6-5c65d704a995",
   "metadata": {},
   "outputs": [],
   "source": []
  },
  {
   "cell_type": "markdown",
   "id": "8a78a8a4-e8d0-469d-a8d2-6d41d82935a9",
   "metadata": {},
   "source": [
    "## Matematiksel İşlemler"
   ]
  },
  {
   "cell_type": "code",
   "execution_count": 237,
   "id": "b66554dd-9ac5-4c3c-9477-66fcc4de3b6c",
   "metadata": {},
   "outputs": [],
   "source": [
    "import numpy as np"
   ]
  },
  {
   "cell_type": "code",
   "execution_count": 238,
   "id": "85108812-124b-4355-bd6d-6dd75762e8f6",
   "metadata": {},
   "outputs": [],
   "source": [
    "v=np.array([1,2,3,4,5])"
   ]
  },
  {
   "cell_type": "code",
   "execution_count": 239,
   "id": "50c451ed-a0d9-4362-863b-84ed149d6f0a",
   "metadata": {},
   "outputs": [
    {
     "data": {
      "text/plain": [
       "array([1, 2, 3, 4, 5])"
      ]
     },
     "execution_count": 239,
     "metadata": {},
     "output_type": "execute_result"
    }
   ],
   "source": [
    "v"
   ]
  },
  {
   "cell_type": "code",
   "execution_count": 242,
   "id": "ff7f73a0-262a-4955-8f16-abfaff96247a",
   "metadata": {},
   "outputs": [
    {
     "data": {
      "text/plain": [
       "array([0, 1, 2, 3, 4])"
      ]
     },
     "execution_count": 242,
     "metadata": {},
     "output_type": "execute_result"
    }
   ],
   "source": [
    "v-1"
   ]
  },
  {
   "cell_type": "code",
   "execution_count": 243,
   "id": "21742954-8ebb-432e-a8eb-db906b9ea846",
   "metadata": {},
   "outputs": [
    {
     "data": {
      "text/plain": [
       "array([ 5, 10, 15, 20, 25])"
      ]
     },
     "execution_count": 243,
     "metadata": {},
     "output_type": "execute_result"
    }
   ],
   "source": [
    "v*5"
   ]
  },
  {
   "cell_type": "code",
   "execution_count": null,
   "id": "f97b03f3-5cee-434f-871a-d2d870c65650",
   "metadata": {},
   "outputs": [],
   "source": []
  },
  {
   "cell_type": "markdown",
   "id": "285a9c3d-c5ed-436c-9894-98feabd64268",
   "metadata": {},
   "source": [
    "## Ufunc Metodu! "
   ]
  },
  {
   "cell_type": "code",
   "execution_count": 244,
   "id": "b6718f56-c910-4759-836a-301bf858d391",
   "metadata": {},
   "outputs": [
    {
     "data": {
      "text/plain": [
       "array([0, 1, 2, 3, 4])"
      ]
     },
     "execution_count": 244,
     "metadata": {},
     "output_type": "execute_result"
    }
   ],
   "source": [
    "np.subtract(v,1)"
   ]
  },
  {
   "cell_type": "code",
   "execution_count": 245,
   "id": "ecee97de-d3ea-4a44-9d55-f550a9e902ce",
   "metadata": {},
   "outputs": [
    {
     "data": {
      "text/plain": [
       "array([2, 3, 4, 5, 6])"
      ]
     },
     "execution_count": 245,
     "metadata": {},
     "output_type": "execute_result"
    }
   ],
   "source": [
    "np.add(v,1)"
   ]
  },
  {
   "cell_type": "code",
   "execution_count": 246,
   "id": "ed8c1ee8-608f-4864-a454-45dc8d2d9e17",
   "metadata": {},
   "outputs": [
    {
     "data": {
      "text/plain": [
       "array([ 4,  8, 12, 16, 20])"
      ]
     },
     "execution_count": 246,
     "metadata": {},
     "output_type": "execute_result"
    }
   ],
   "source": [
    "np.multiply(v,4)"
   ]
  },
  {
   "cell_type": "code",
   "execution_count": 247,
   "id": "702298ba-b250-4e0e-94a0-ab42380eb191",
   "metadata": {},
   "outputs": [
    {
     "data": {
      "text/plain": [
       "array([0.33333333, 0.66666667, 1.        , 1.33333333, 1.66666667])"
      ]
     },
     "execution_count": 247,
     "metadata": {},
     "output_type": "execute_result"
    }
   ],
   "source": [
    "np.divide(v,3)"
   ]
  },
  {
   "cell_type": "code",
   "execution_count": 248,
   "id": "0b6a3f6c-57c9-42eb-95d6-2927a20d791a",
   "metadata": {},
   "outputs": [
    {
     "data": {
      "text/plain": [
       "array([ 1,  4,  9, 16, 25])"
      ]
     },
     "execution_count": 248,
     "metadata": {},
     "output_type": "execute_result"
    }
   ],
   "source": [
    "v**2"
   ]
  },
  {
   "cell_type": "code",
   "execution_count": 249,
   "id": "6742a082-0005-42da-9b52-86f12f25c79e",
   "metadata": {},
   "outputs": [
    {
     "data": {
      "text/plain": [
       "array([  1,   8,  27,  64, 125], dtype=int32)"
      ]
     },
     "execution_count": 249,
     "metadata": {},
     "output_type": "execute_result"
    }
   ],
   "source": [
    "v**3\n"
   ]
  },
  {
   "cell_type": "code",
   "execution_count": 250,
   "id": "d5adda2e-b621-44d1-95a6-fb4dd2de966c",
   "metadata": {},
   "outputs": [
    {
     "data": {
      "text/plain": [
       "array([  1,   8,  27,  64, 125], dtype=int32)"
      ]
     },
     "execution_count": 250,
     "metadata": {},
     "output_type": "execute_result"
    }
   ],
   "source": [
    "np.power(v,3)"
   ]
  },
  {
   "cell_type": "code",
   "execution_count": 251,
   "id": "55d669ce-4948-4b1a-8764-6c05b03bc526",
   "metadata": {},
   "outputs": [
    {
     "data": {
      "text/plain": [
       "array([1, 0, 1, 0, 1], dtype=int32)"
      ]
     },
     "execution_count": 251,
     "metadata": {},
     "output_type": "execute_result"
    }
   ],
   "source": [
    "v%2"
   ]
  },
  {
   "cell_type": "code",
   "execution_count": 252,
   "id": "67cff29a-ed52-4dac-b9e3-5776d073abae",
   "metadata": {},
   "outputs": [
    {
     "data": {
      "text/plain": [
       "array([1, 0, 1, 0, 1], dtype=int32)"
      ]
     },
     "execution_count": 252,
     "metadata": {},
     "output_type": "execute_result"
    }
   ],
   "source": [
    "np.mod(v,2)\n"
   ]
  },
  {
   "cell_type": "code",
   "execution_count": 255,
   "id": "244901f6-e233-4cce-b45e-f8f090891674",
   "metadata": {},
   "outputs": [
    {
     "data": {
      "text/plain": [
       "array([3])"
      ]
     },
     "execution_count": 255,
     "metadata": {},
     "output_type": "execute_result"
    }
   ],
   "source": [
    "np.absolute(np.array([-3]))"
   ]
  },
  {
   "cell_type": "code",
   "execution_count": 256,
   "id": "4cc7262c-80c6-448a-ac38-af6cd1a31bf1",
   "metadata": {},
   "outputs": [
    {
     "data": {
      "text/plain": [
       "0.9589157234143065"
      ]
     },
     "execution_count": 256,
     "metadata": {},
     "output_type": "execute_result"
    }
   ],
   "source": [
    "np.sin(360)"
   ]
  },
  {
   "cell_type": "code",
   "execution_count": 257,
   "id": "fe8efe44-dc66-4a1a-8893-a5745a4e38f8",
   "metadata": {},
   "outputs": [
    {
     "data": {
      "text/plain": [
       "-0.2836910914865273"
      ]
     },
     "execution_count": 257,
     "metadata": {},
     "output_type": "execute_result"
    }
   ],
   "source": [
    "np.cos(360)\n"
   ]
  },
  {
   "cell_type": "code",
   "execution_count": 258,
   "id": "42591307-f2e1-44f3-8830-5195d8b4e48c",
   "metadata": {},
   "outputs": [
    {
     "data": {
      "text/plain": [
       "array([0.        , 0.69314718, 1.09861229, 1.38629436, 1.60943791])"
      ]
     },
     "execution_count": 258,
     "metadata": {},
     "output_type": "execute_result"
    }
   ],
   "source": [
    "np.log(v)"
   ]
  },
  {
   "cell_type": "code",
   "execution_count": 259,
   "id": "aee8306e-05c3-4858-9424-af9a219c17b3",
   "metadata": {
    "tags": []
   },
   "outputs": [
    {
     "data": {
      "text/plain": [
       "array([0.        , 0.30103   , 0.47712125, 0.60205999, 0.69897   ])"
      ]
     },
     "execution_count": 259,
     "metadata": {},
     "output_type": "execute_result"
    }
   ],
   "source": [
    "np.log10(v)\n",
    "\n"
   ]
  },
  {
   "cell_type": "markdown",
   "id": "96d994a8-621b-48ee-b531-32f720aab499",
   "metadata": {},
   "source": [
    "## numpy ile ilgili bilgilere nasıl ulaşıcaz?"
   ]
  },
  {
   "cell_type": "code",
   "execution_count": 260,
   "id": "19aef014-72d3-41ee-81b7-afe79419ed41",
   "metadata": {},
   "outputs": [
    {
     "data": {
      "text/plain": [
       "\u001b[1;31mType:\u001b[0m        module\n",
       "\u001b[1;31mString form:\u001b[0m <module 'numpy' from 'C:\\\\Users\\\\Lenovo\\\\anaconda3\\\\lib\\\\site-packages\\\\numpy\\\\__init__.py'>\n",
       "\u001b[1;31mFile:\u001b[0m        c:\\users\\lenovo\\anaconda3\\lib\\site-packages\\numpy\\__init__.py\n",
       "\u001b[1;31mDocstring:\u001b[0m  \n",
       "NumPy\n",
       "=====\n",
       "\n",
       "Provides\n",
       "  1. An array object of arbitrary homogeneous items\n",
       "  2. Fast mathematical operations over arrays\n",
       "  3. Linear Algebra, Fourier Transforms, Random Number Generation\n",
       "\n",
       "How to use the documentation\n",
       "----------------------------\n",
       "Documentation is available in two forms: docstrings provided\n",
       "with the code, and a loose standing reference guide, available from\n",
       "`the NumPy homepage <https://numpy.org>`_.\n",
       "\n",
       "We recommend exploring the docstrings using\n",
       "`IPython <https://ipython.org>`_, an advanced Python shell with\n",
       "TAB-completion and introspection capabilities.  See below for further\n",
       "instructions.\n",
       "\n",
       "The docstring examples assume that `numpy` has been imported as `np`::\n",
       "\n",
       "  >>> import numpy as np\n",
       "\n",
       "Code snippets are indicated by three greater-than signs::\n",
       "\n",
       "  >>> x = 42\n",
       "  >>> x = x + 1\n",
       "\n",
       "Use the built-in ``help`` function to view a function's docstring::\n",
       "\n",
       "  >>> help(np.sort)\n",
       "  ... # doctest: +SKIP\n",
       "\n",
       "For some objects, ``np.info(obj)`` may provide additional help.  This is\n",
       "particularly true if you see the line \"Help on ufunc object:\" at the top\n",
       "of the help() page.  Ufuncs are implemented in C, not Python, for speed.\n",
       "The native Python help() does not know how to view their help, but our\n",
       "np.info() function does.\n",
       "\n",
       "To search for documents containing a keyword, do::\n",
       "\n",
       "  >>> np.lookfor('keyword')\n",
       "  ... # doctest: +SKIP\n",
       "\n",
       "General-purpose documents like a glossary and help on the basic concepts\n",
       "of numpy are available under the ``doc`` sub-module::\n",
       "\n",
       "  >>> from numpy import doc\n",
       "  >>> help(doc)\n",
       "  ... # doctest: +SKIP\n",
       "\n",
       "Available subpackages\n",
       "---------------------\n",
       "lib\n",
       "    Basic functions used by several sub-packages.\n",
       "random\n",
       "    Core Random Tools\n",
       "linalg\n",
       "    Core Linear Algebra Tools\n",
       "fft\n",
       "    Core FFT routines\n",
       "polynomial\n",
       "    Polynomial tools\n",
       "testing\n",
       "    NumPy testing tools\n",
       "distutils\n",
       "    Enhancements to distutils with support for\n",
       "    Fortran compilers support and more.\n",
       "\n",
       "Utilities\n",
       "---------\n",
       "test\n",
       "    Run numpy unittests\n",
       "show_config\n",
       "    Show numpy build configuration\n",
       "dual\n",
       "    Overwrite certain functions with high-performance SciPy tools.\n",
       "    Note: `numpy.dual` is deprecated.  Use the functions from NumPy or Scipy\n",
       "    directly instead of importing them from `numpy.dual`.\n",
       "matlib\n",
       "    Make everything matrices.\n",
       "__version__\n",
       "    NumPy version string\n",
       "\n",
       "Viewing documentation using IPython\n",
       "-----------------------------------\n",
       "Start IPython with the NumPy profile (``ipython -p numpy``), which will\n",
       "import `numpy` under the alias `np`.  Then, use the ``cpaste`` command to\n",
       "paste examples into the shell.  To see which functions are available in\n",
       "`numpy`, type ``np.<TAB>`` (where ``<TAB>`` refers to the TAB key), or use\n",
       "``np.*cos*?<ENTER>`` (where ``<ENTER>`` refers to the ENTER key) to narrow\n",
       "down the list.  To view the docstring for a function, use\n",
       "``np.cos?<ENTER>`` (to view the docstring) and ``np.cos??<ENTER>`` (to view\n",
       "the source code).\n",
       "\n",
       "Copies vs. in-place operation\n",
       "-----------------------------\n",
       "Most of the functions in `numpy` return a copy of the array argument\n",
       "(e.g., `np.sort`).  In-place versions of these functions are often\n",
       "available as array methods, i.e. ``x = np.array([1,2,3]); x.sort()``.\n",
       "Exceptions to this rule are documented.\n"
      ]
     },
     "metadata": {},
     "output_type": "display_data"
    }
   ],
   "source": [
    "?np"
   ]
  },
  {
   "cell_type": "markdown",
   "id": "1cd7e25c-b54b-42a6-a52e-7fd59a30e268",
   "metadata": {},
   "source": [
    "## cheatsheet numpy yazarak onumuze cıktı cıkar googlayarak onumuze bır suru sey cıkar\n"
   ]
  },
  {
   "cell_type": "code",
   "execution_count": null,
   "id": "d6695f20-c598-4a3f-a454-bebf1700c679",
   "metadata": {},
   "outputs": [],
   "source": [
    "numpy statistics "
   ]
  },
  {
   "cell_type": "code",
   "execution_count": null,
   "id": "e293abe4-ee59-4868-93ab-3f21cf279657",
   "metadata": {},
   "outputs": [],
   "source": [
    "Numpy İle 2 Bilinmeyenli Denklem"
   ]
  },
  {
   "cell_type": "code",
   "execution_count": 263,
   "id": "7ba240a7-3206-4a1b-bfc1-49faf23ac1a9",
   "metadata": {},
   "outputs": [],
   "source": [
    "import numpy as np"
   ]
  },
  {
   "cell_type": "code",
   "execution_count": null,
   "id": "202736d0-9846-4db7-ba3c-bd1e3339d56b",
   "metadata": {},
   "outputs": [],
   "source": []
  },
  {
   "cell_type": "code",
   "execution_count": 1,
   "id": "e48aab98-f4f3-49b4-b8ac-1b66851a520f",
   "metadata": {},
   "outputs": [
    {
     "ename": "NameError",
     "evalue": "name 'fdsfgrd' is not defined",
     "output_type": "error",
     "traceback": [
      "\u001b[1;31m---------------------------------------------------------------------------\u001b[0m",
      "\u001b[1;31mNameError\u001b[0m                                 Traceback (most recent call last)",
      "Cell \u001b[1;32mIn[1], line 1\u001b[0m\n\u001b[1;32m----> 1\u001b[0m \u001b[43mfdsfgrd\u001b[49m\n",
      "\u001b[1;31mNameError\u001b[0m: name 'fdsfgrd' is not defined"
     ]
    }
   ],
   "source": []
  },
  {
   "cell_type": "code",
   "execution_count": null,
   "id": "39f71d5d-a7c7-40d5-bc43-137a29b4cfee",
   "metadata": {},
   "outputs": [],
   "source": []
  },
  {
   "cell_type": "code",
   "execution_count": null,
   "id": "f012e6f1-2582-48ca-9a99-6114505960c1",
   "metadata": {},
   "outputs": [],
   "source": []
  },
  {
   "cell_type": "code",
   "execution_count": null,
   "id": "f382c403-23b2-4eb0-a53d-3a1988bdcad0",
   "metadata": {},
   "outputs": [],
   "source": []
  },
  {
   "cell_type": "code",
   "execution_count": null,
   "id": "0af1596e-4326-4d98-8a9f-16bba1182563",
   "metadata": {},
   "outputs": [],
   "source": []
  },
  {
   "cell_type": "code",
   "execution_count": null,
   "id": "0b5c00e4-05dd-4199-ab13-3801a230e123",
   "metadata": {},
   "outputs": [],
   "source": []
  },
  {
   "cell_type": "code",
   "execution_count": null,
   "id": "d2e4a3ae-3baa-4218-a0a9-d45eaf0b2d91",
   "metadata": {},
   "outputs": [],
   "source": []
  },
  {
   "cell_type": "code",
   "execution_count": null,
   "id": "5238ae0c-131c-4af6-a580-eed1fb55ba64",
   "metadata": {},
   "outputs": [],
   "source": []
  },
  {
   "cell_type": "code",
   "execution_count": null,
   "id": "266040ed-2e85-4888-889c-3d96cf7cbfef",
   "metadata": {},
   "outputs": [],
   "source": []
  },
  {
   "cell_type": "code",
   "execution_count": null,
   "id": "e970b8bd-ed87-4408-bd6b-74ab7fd69fb1",
   "metadata": {},
   "outputs": [],
   "source": []
  },
  {
   "cell_type": "code",
   "execution_count": null,
   "id": "9c829537-0a7b-4aba-ad3a-ea5da9b3b5a2",
   "metadata": {},
   "outputs": [],
   "source": []
  },
  {
   "cell_type": "code",
   "execution_count": null,
   "id": "06a68881-8d2f-4edb-8962-4320a81ed473",
   "metadata": {},
   "outputs": [],
   "source": []
  },
  {
   "cell_type": "code",
   "execution_count": null,
   "id": "9ed461eb-c05a-4e09-842a-5b3769062bd2",
   "metadata": {},
   "outputs": [],
   "source": []
  },
  {
   "cell_type": "code",
   "execution_count": null,
   "id": "d5c4940d-42d0-4117-a67f-dd9027dfe13e",
   "metadata": {},
   "outputs": [],
   "source": []
  },
  {
   "cell_type": "code",
   "execution_count": null,
   "id": "1e852bf4-2e31-4dd0-ae84-a9464aed60a3",
   "metadata": {},
   "outputs": [],
   "source": []
  }
 ],
 "metadata": {
  "kernelspec": {
   "display_name": "Python 3 (ipykernel)",
   "language": "python",
   "name": "python3"
  },
  "language_info": {
   "codemirror_mode": {
    "name": "ipython",
    "version": 3
   },
   "file_extension": ".py",
   "mimetype": "text/x-python",
   "name": "python",
   "nbconvert_exporter": "python",
   "pygments_lexer": "ipython3",
   "version": "3.9.13"
  }
 },
 "nbformat": 4,
 "nbformat_minor": 5
}
